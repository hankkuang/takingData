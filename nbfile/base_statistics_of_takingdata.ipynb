{
 "cells": [
  {
   "cell_type": "markdown",
   "metadata": {},
   "source": [
    "# 运营情况统计分析\n",
    "## takingdata数据基本情况分析\n",
    "> 该数据为takingdata提供的虚假欺诈点击数据，一共184903890行，数据集大小7.5GB\n",
    "\n",
    "> 变量名词与相关解释如下：\n",
    "\n",
    "* ip: ip address of click\n",
    "* app: app id for marketing\n",
    "* device: device type id of user mobile phone (e.g., iphone 6 plus, iphone 7, huawei mate 7, etc.)\n",
    "* os: os version id of user mobile phone\n",
    "* channel: channel id of mobile ad publisher\n",
    "* click_time: timestamp of click (UTC)\n",
    "* attributed_time: if user download the app for after clicking an ad, this is the time of the app download\n",
    "* is_attributed: the target that is to be predicted, indicating the app was downloaded\n",
    "\n",
    "**注意：**以上ip,app,device,os,channel都已经进行了转码处理"
   ]
  },
  {
   "cell_type": "markdown",
   "metadata": {},
   "source": [
    "### 1.环境准备\n",
    "**导入模块**"
   ]
  },
  {
   "cell_type": "code",
   "execution_count": 1,
   "metadata": {
    "collapsed": true
   },
   "outputs": [],
   "source": [
    "import pandas as pd\n",
    "import matplotlib.pyplot as plt\n",
    "import numpy as np\n",
    "import os\n",
    "%matplotlib inline\n",
    "\n",
    "os.chdir(\"/home/hk/Documents/talkingData/mnt/ssd/kaggle-talkingdata2/competition_files\")"
   ]
  },
  {
   "cell_type": "markdown",
   "metadata": {},
   "source": [
    "**创建迭代器读取数据，并查看数据**"
   ]
  },
  {
   "cell_type": "code",
   "execution_count": 32,
   "metadata": {
    "collapsed": false
   },
   "outputs": [],
   "source": [
    "chunks = pd.read_csv('train.csv',  chunksize=2000000)"
   ]
  },
  {
   "cell_type": "code",
   "execution_count": 33,
   "metadata": {
    "collapsed": false
   },
   "outputs": [
    {
     "data": {
      "text/html": [
       "<div>\n",
       "<table border=\"1\" class=\"dataframe\">\n",
       "  <thead>\n",
       "    <tr style=\"text-align: right;\">\n",
       "      <th></th>\n",
       "      <th>ip</th>\n",
       "      <th>app</th>\n",
       "      <th>device</th>\n",
       "      <th>os</th>\n",
       "      <th>channel</th>\n",
       "      <th>click_time</th>\n",
       "      <th>attributed_time</th>\n",
       "      <th>is_attributed</th>\n",
       "    </tr>\n",
       "  </thead>\n",
       "  <tbody>\n",
       "    <tr>\n",
       "      <th>0</th>\n",
       "      <td>83230</td>\n",
       "      <td>3</td>\n",
       "      <td>1</td>\n",
       "      <td>13</td>\n",
       "      <td>379</td>\n",
       "      <td>2017-11-06 14:32:21</td>\n",
       "      <td>NaN</td>\n",
       "      <td>0</td>\n",
       "    </tr>\n",
       "    <tr>\n",
       "      <th>1</th>\n",
       "      <td>17357</td>\n",
       "      <td>3</td>\n",
       "      <td>1</td>\n",
       "      <td>19</td>\n",
       "      <td>379</td>\n",
       "      <td>2017-11-06 14:33:34</td>\n",
       "      <td>NaN</td>\n",
       "      <td>0</td>\n",
       "    </tr>\n",
       "    <tr>\n",
       "      <th>2</th>\n",
       "      <td>35810</td>\n",
       "      <td>3</td>\n",
       "      <td>1</td>\n",
       "      <td>13</td>\n",
       "      <td>379</td>\n",
       "      <td>2017-11-06 14:34:12</td>\n",
       "      <td>NaN</td>\n",
       "      <td>0</td>\n",
       "    </tr>\n",
       "    <tr>\n",
       "      <th>3</th>\n",
       "      <td>45745</td>\n",
       "      <td>14</td>\n",
       "      <td>1</td>\n",
       "      <td>13</td>\n",
       "      <td>478</td>\n",
       "      <td>2017-11-06 14:34:52</td>\n",
       "      <td>NaN</td>\n",
       "      <td>0</td>\n",
       "    </tr>\n",
       "    <tr>\n",
       "      <th>4</th>\n",
       "      <td>161007</td>\n",
       "      <td>3</td>\n",
       "      <td>1</td>\n",
       "      <td>13</td>\n",
       "      <td>379</td>\n",
       "      <td>2017-11-06 14:35:08</td>\n",
       "      <td>NaN</td>\n",
       "      <td>0</td>\n",
       "    </tr>\n",
       "  </tbody>\n",
       "</table>\n",
       "</div>"
      ],
      "text/plain": [
       "       ip  app  device  os  channel           click_time  attributed_time  \\\n",
       "0   83230    3       1  13      379  2017-11-06 14:32:21              NaN   \n",
       "1   17357    3       1  19      379  2017-11-06 14:33:34              NaN   \n",
       "2   35810    3       1  13      379  2017-11-06 14:34:12              NaN   \n",
       "3   45745   14       1  13      478  2017-11-06 14:34:52              NaN   \n",
       "4  161007    3       1  13      379  2017-11-06 14:35:08              NaN   \n",
       "\n",
       "   is_attributed  \n",
       "0              0  \n",
       "1              0  \n",
       "2              0  \n",
       "3              0  \n",
       "4              0  "
      ]
     },
     "execution_count": 33,
     "metadata": {},
     "output_type": "execute_result"
    }
   ],
   "source": [
    "chunks.get_chunk(5)"
   ]
  },
  {
   "cell_type": "markdown",
   "metadata": {},
   "source": [
    "**统计各离散变量unique数**"
   ]
  },
  {
   "cell_type": "code",
   "execution_count": 31,
   "metadata": {
    "collapsed": false
   },
   "outputs": [
    {
     "name": "stdout",
     "output_type": "stream",
     "text": [
      "programme start!\n",
      "progamme over!\n"
     ]
    }
   ],
   "source": [
    "chunks = pd.read_csv('train.csv',  chunksize=2000000)\n",
    "ip_set = set()\n",
    "app_set = set()\n",
    "channel_set = set()\n",
    "os_set = set()\n",
    "device_set = set()\n",
    "\n",
    "print('programme start!')  \n",
    "for chunk in chunks:\n",
    "    \n",
    "    ip_list = chunk['ip']\n",
    "    app_list = chunk['app']\n",
    "    channel_list = chunk['channel']\n",
    "    os_list = chunk['os']\n",
    "    device_list = chunk['device']\n",
    "\n",
    "    ip_set = set(ip_list) | ip_set\n",
    "    app_set = set(app_list) | app_set\n",
    "    channel_set = set(channel_list) |channel_set\n",
    "    os_set = set(os_list) | os_set\n",
    "    device_set = set(device_list) | device_set\n",
    "    i += 1\n",
    "    \n",
    "\n",
    "print(\"progamme over!\")"
   ]
  },
  {
   "cell_type": "markdown",
   "metadata": {},
   "source": [
    "**输出离散变量unique count的结果**\n"
   ]
  },
  {
   "cell_type": "code",
   "execution_count": 35,
   "metadata": {
    "collapsed": false
   },
   "outputs": [
    {
     "data": {
      "text/plain": [
       "ip         277396\n",
       "app           706\n",
       "channel       202\n",
       "os            800\n",
       "device       3475\n",
       "dtype: int64"
      ]
     },
     "execution_count": 35,
     "metadata": {},
     "output_type": "execute_result"
    }
   ],
   "source": [
    "unique_series = pd.Series()\n",
    "unique_series['ip'] = len(ip_set)\n",
    "unique_series['app'] = len(app_set)\n",
    "unique_series['channel'] = len(channel_set)\n",
    "unique_series['os'] = len(os_set)\n",
    "unique_series['device'] = len(device_set)\n",
    "\n",
    "unique_series\n",
    "    "
   ]
  },
  {
   "cell_type": "code",
   "execution_count": 40,
   "metadata": {
    "collapsed": false
   },
   "outputs": [
    {
     "data": {
      "text/plain": [
       "666.570137997664"
      ]
     },
     "execution_count": 40,
     "metadata": {},
     "output_type": "execute_result"
    }
   ],
   "source": [
    "per_click = 184903890./277396\n",
    "per_click"
   ]
  },
  {
   "cell_type": "markdown",
   "metadata": {},
   "source": [
    "**说明：**四天时间一共277396个ip通过各种渠道进行了访问，平均ip点击次数：666.57"
   ]
  },
  {
   "cell_type": "markdown",
   "metadata": {},
   "source": [
    "**绘制除ip外离散变量unique条行图**"
   ]
  },
  {
   "cell_type": "code",
   "execution_count": 38,
   "metadata": {
    "collapsed": false
   },
   "outputs": [
    {
     "data": {
      "image/png": "[encoded data removed]",
      "text/plain": [
       "<matplotlib.figure.Figure at 0x7f0397ff8470>"
      ]
     },
     "metadata": {},
     "output_type": "display_data"
    }
   ],
   "source": [
    "plt.figure(figsize=(8, 5))\n",
    "plt.title('discrete variables counts(unque)')\n",
    "unique_series = unique_series.drop('ip')\n",
    "x = range(len(unique_series))\n",
    "plt.bar(x, unique_series)\n",
    "plt.xticks(x, unique_series.index)\n",
    "plt.show()"
   ]
  },
  {
   "cell_type": "markdown",
   "metadata": {},
   "source": [
    "\n",
    "**统计每一个ip访问次数**"
   ]
  },
  {
   "cell_type": "code",
   "execution_count": 53,
   "metadata": {
    "collapsed": false
   },
   "outputs": [
    {
     "data": {
      "text/plain": [
       "\"\\nchunks = pd.read_csv('train.csv',  chunksize=2000000)\\n\\nip_counts = pd.Series()\\n\\nprint('progamme start!')\\nfor chunk in chunks:\\n    ip_c = chunk['ip'].value_counts()\\n    ip_counts = ip_counts.append(ip_c, ignore_index=False)\\n\\nprint('progamme end!')\\n\""
      ]
     },
     "execution_count": 53,
     "metadata": {},
     "output_type": "execute_result"
    }
   ],
   "source": [
    "\n",
    "chunks = pd.read_csv('train.csv',  chunksize=2000000)\n",
    "\n",
    "ip_counts = pd.Series()\n",
    "\n",
    "print('progamme start!')\n",
    "for chunk in chunks:\n",
    "    ip_c = chunk['ip'].value_counts()\n",
    "    ip_counts = ip_counts.append(ip_c, ignore_index=False)\n",
    "\n",
    "print('progamme end!')\n"
   ]
  },
  {
   "cell_type": "code",
   "execution_count": 52,
   "metadata": {
    "collapsed": false
   },
   "outputs": [],
   "source": [
    "ip_counts = ip_counts.groupby(ip_counts.index).sum()"
   ]
  },
  {
   "cell_type": "markdown",
   "metadata": {},
   "source": [
    "**绘制累积分布图&频数分布直方图**"
   ]
  },
  {
   "cell_type": "code",
   "execution_count": 62,
   "metadata": {
    "collapsed": false
   },
   "outputs": [
    {
     "data": {
      "image/png": "[encoded data removed]",
      "text/plain": [
       "<matplotlib.figure.Figure at 0x7f038e372f98>"
      ]
     },
     "metadata": {},
     "output_type": "display_data"
    }
   ],
   "source": [
    "plt.figure(figsize=(12, 6))\n",
    "plt.subplot(121)\n",
    "plt.title('Cumulative Distribution of ip counts')\n",
    "plt.boxplot(ip_counts.values)\n",
    "plt.ylabel('click times')\n",
    "plt.xlabel('ip index')\n",
    "\n",
    "plt.subplot(122)\n",
    "plt.title('histogram of ip counts')\n",
    "plt.hist(ip_counts, bins=100)\n",
    "plt.show()"
   ]
  },
  {
   "cell_type": "code",
   "execution_count": 56,
   "metadata": {
    "collapsed": false
   },
   "outputs": [
    {
     "data": {
      "text/plain": [
       "233017    1\n",
       "310996    1\n",
       "148143    1\n",
       "310993    1\n",
       "148150    1\n",
       "dtype: int64"
      ]
     },
     "execution_count": 56,
     "metadata": {},
     "output_type": "execute_result"
    }
   ],
   "source": [
    "ip_counts.sort_values(ascending=True).head()"
   ]
  },
  {
   "cell_type": "markdown",
   "metadata": {},
   "source": [
    "**修改变量名，使数据符合游戏场景**"
   ]
  },
  {
   "cell_type": "markdown",
   "metadata": {},
   "source": [
    "**变量解释**\n",
    "\n",
    "* player_id 玩家id\n",
    "* device 玩家设备\n",
    "* os 玩家系统\n",
    "* login_time 登陆时间\n",
    "* paid_time 付费时间\n",
    "* is_paid 是否付费"
   ]
  },
  {
   "cell_type": "markdown",
   "metadata": {},
   "source": [
    "## 2.数据预处理\n",
    "**时间变量转换**"
   ]
  },
  {
   "cell_type": "code",
   "execution_count": 34,
   "metadata": {
    "collapsed": true
   },
   "outputs": [],
   "source": [
    "dataSet['click_time'] = pd.to_datetime(dataSet['click_time'], format='%Y-%m-%d  %H:%M:%S', errors='raise')"
   ]
  },
  {
   "cell_type": "code",
   "execution_count": 35,
   "metadata": {
    "collapsed": true
   },
   "outputs": [],
   "source": [
    "dataSet['attributed_time'] = pd.to_datetime(dataSet['attributed_time'], format='%Y-%m-%d  %H:%M:%S', errors='raise')"
   ]
  },
  {
   "cell_type": "code",
   "execution_count": 42,
   "metadata": {
    "collapsed": false
   },
   "outputs": [
    {
     "name": "stdout",
     "output_type": "stream",
     "text": [
      "from 2017-11-07 08:58:55 to 2017-11-09 00:05:39\n"
     ]
    }
   ],
   "source": [
    "start_date = dataSet.click_time.min()\n",
    "end_data = dataSet.click_time.max()\n",
    "print('from {} to {}'.format(start_date, end_data))"
   ]
  },
  {
   "cell_type": "markdown",
   "metadata": {},
   "source": [
    "数据最终为200w点击操作数据，时间区间为11-07， 到11-08两天"
   ]
  },
  {
   "cell_type": "markdown",
   "metadata": {},
   "source": [
    "**检查缺失值个数**"
   ]
  },
  {
   "cell_type": "code",
   "execution_count": 37,
   "metadata": {
    "collapsed": false
   },
   "outputs": [
    {
     "name": "stdout",
     "output_type": "stream",
     "text": [
      "num_of_missing_value in var :ip is 0\n",
      "num_of_missing_value in var :app is 0\n",
      "num_of_missing_value in var :device is 0\n",
      "num_of_missing_value in var :os is 0\n",
      "num_of_missing_value in var :channel is 0\n",
      "num_of_missing_value in var :click_time is 0\n",
      "num_of_missing_value in var :attributed_time is 1995282\n",
      "num_of_missing_value in var :is_attributed is 0\n"
     ]
    }
   ],
   "source": [
    "for var in dataSet.columns:\n",
    "    \n",
    "    num_of_missing_value = sum(dataSet[var].isnull())\n",
    "    print('num_of_missing_value in var :{} is {}'.format(var,str( num_of_missing_value)))"
   ]
  },
  {
   "cell_type": "code",
   "execution_count": 43,
   "metadata": {
    "collapsed": false
   },
   "outputs": [
    {
     "data": {
      "text/plain": [
       "5348      14430\n",
       "5314      14206\n",
       "73487      8565\n",
       "73516      8394\n",
       "53454      4707\n",
       "114276     4335\n",
       "26995      3804\n",
       "95766      3431\n",
       "100275     3276\n",
       "201182     2954\n",
       "105560     2897\n",
       "137052     2876\n",
       "105475     2864\n",
       "17149      2719\n",
       "43793      2716\n",
       "49602      2679\n",
       "209663     2530\n",
       "111025     2303\n",
       "5178       2142\n",
       "86767      2063\n",
       "5147       1888\n",
       "93021      1818\n",
       "45745      1704\n",
       "84896      1655\n",
       "48282      1643\n",
       "93587      1608\n",
       "77048      1604\n",
       "93054      1583\n",
       "75634      1582\n",
       "119531     1581\n",
       "          ...  \n",
       "264766        1\n",
       "39596         1\n",
       "135933        1\n",
       "133886        1\n",
       "315430        1\n",
       "271931        1\n",
       "52900         1\n",
       "339995        1\n",
       "96402         1\n",
       "86167         1\n",
       "173807        1\n",
       "303656        1\n",
       "68764         1\n",
       "215765        1\n",
       "185062        1\n",
       "267327        1\n",
       "273464        1\n",
       "302639        1\n",
       "176363        1\n",
       "213205        1\n",
       "215252        1\n",
       "3773          1\n",
       "233165        1\n",
       "216789        1\n",
       "66205         1\n",
       "238281        1\n",
       "242379        1\n",
       "226003        1\n",
       "77979         1\n",
       "4094          1\n",
       "Name: ip, dtype: int64"
      ]
     },
     "execution_count": 43,
     "metadata": {},
     "output_type": "execute_result"
    }
   ],
   "source": [
    "dataSet['ip'].value_counts()"
   ]
  },
  {
   "cell_type": "code",
   "execution_count": 40,
   "metadata": {
    "collapsed": false
   },
   "outputs": [
    {
     "data": {
      "text/plain": [
       "Timestamp('2017-11-07 08:58:55')"
      ]
     },
     "execution_count": 40,
     "metadata": {},
     "output_type": "execute_result"
    }
   ],
   "source": [
    "dataSet.click_time.min()"
   ]
  },
  {
   "cell_type": "code",
   "execution_count": null,
   "metadata": {
    "collapsed": true
   },
   "outputs": [],
   "source": []
  }
 ],
 "metadata": {
  "kernelspec": {
   "display_name": "Python 3",
   "language": "python",
   "name": "python3"
  },
  "language_info": {
   "codemirror_mode": {
    "name": "ipython",
    "version": 3
   },
   "file_extension": ".py",
   "mimetype": "text/x-python",
   "name": "python",
   "nbconvert_exporter": "python",
   "pygments_lexer": "ipython3",
   "version": "3.6.0"
  }
 },
 "nbformat": 4,
 "nbformat_minor": 2
}
