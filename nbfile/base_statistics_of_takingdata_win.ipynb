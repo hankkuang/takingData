{
 "cells": [
  {
   "cell_type": "markdown",
   "metadata": {},
   "source": [
    "# takingdata数据基本情况分析\n",
    "> 该数据为takingdata提供的虚假欺诈点击数据，一共184903890行，数据集大小7.5GB\n",
    "\n",
    "> 变量名词与相关解释如下：\n",
    "\n",
    "* ip: 客户ip 地址\n",
    "* app: app id \n",
    "* device: 用户手机终端信号 (e.g., iphone 6 plus, iphone 7, huawei mate 7, etc.)\n",
    "* os: 系统版本id\n",
    "* channel: 广告渠道 id \n",
    "* click_time: 点击时间\n",
    "* attributed_time: app 下载时间\n",
    "* is_attributed: 该次点击是否下载app\n",
    "\n",
    "**注意：**以上ip,app,device,os,channel都已经进行了转码处理"
   ]
  },
  {
   "cell_type": "markdown",
   "metadata": {},
   "source": [
    "### 1.环境准备\n",
    "**导入模块**"
   ]
  },
  {
   "cell_type": "code",
   "execution_count": 1,
   "metadata": {
    "collapsed": true
   },
   "outputs": [],
   "source": [
    "import pandas as pd\n",
    "import matplotlib.pyplot as plt\n",
    "import numpy as np\n",
    "import os\n",
    "from IPython import display\n",
    "%matplotlib inline\n",
    "\n",
    "os.chdir(\"C:/MyDownloads/takingdata\")"
   ]
  },
  {
   "cell_type": "markdown",
   "metadata": {},
   "source": [
    "**创建迭代器读取数据，并查看数据**"
   ]
  },
  {
   "cell_type": "code",
   "execution_count": 2,
   "metadata": {
    "collapsed": false
   },
   "outputs": [],
   "source": [
    "chunks = pd.read_csv('train.csv',  chunksize=2000000)"
   ]
  },
  {
   "cell_type": "code",
   "execution_count": 3,
   "metadata": {
    "collapsed": false
   },
   "outputs": [
    {
     "data": {
      "text/html": [
       "<div>\n",
       "<table border=\"1\" class=\"dataframe\">\n",
       "  <thead>\n",
       "    <tr style=\"text-align: right;\">\n",
       "      <th></th>\n",
       "      <th>ip</th>\n",
       "      <th>app</th>\n",
       "      <th>device</th>\n",
       "      <th>os</th>\n",
       "      <th>channel</th>\n",
       "      <th>click_time</th>\n",
       "      <th>attributed_time</th>\n",
       "      <th>is_attributed</th>\n",
       "    </tr>\n",
       "  </thead>\n",
       "  <tbody>\n",
       "    <tr>\n",
       "      <th>0</th>\n",
       "      <td>83230</td>\n",
       "      <td>3</td>\n",
       "      <td>1</td>\n",
       "      <td>13</td>\n",
       "      <td>379</td>\n",
       "      <td>2017-11-06 14:32:21</td>\n",
       "      <td>NaN</td>\n",
       "      <td>0</td>\n",
       "    </tr>\n",
       "    <tr>\n",
       "      <th>1</th>\n",
       "      <td>17357</td>\n",
       "      <td>3</td>\n",
       "      <td>1</td>\n",
       "      <td>19</td>\n",
       "      <td>379</td>\n",
       "      <td>2017-11-06 14:33:34</td>\n",
       "      <td>NaN</td>\n",
       "      <td>0</td>\n",
       "    </tr>\n",
       "    <tr>\n",
       "      <th>2</th>\n",
       "      <td>35810</td>\n",
       "      <td>3</td>\n",
       "      <td>1</td>\n",
       "      <td>13</td>\n",
       "      <td>379</td>\n",
       "      <td>2017-11-06 14:34:12</td>\n",
       "      <td>NaN</td>\n",
       "      <td>0</td>\n",
       "    </tr>\n",
       "    <tr>\n",
       "      <th>3</th>\n",
       "      <td>45745</td>\n",
       "      <td>14</td>\n",
       "      <td>1</td>\n",
       "      <td>13</td>\n",
       "      <td>478</td>\n",
       "      <td>2017-11-06 14:34:52</td>\n",
       "      <td>NaN</td>\n",
       "      <td>0</td>\n",
       "    </tr>\n",
       "    <tr>\n",
       "      <th>4</th>\n",
       "      <td>161007</td>\n",
       "      <td>3</td>\n",
       "      <td>1</td>\n",
       "      <td>13</td>\n",
       "      <td>379</td>\n",
       "      <td>2017-11-06 14:35:08</td>\n",
       "      <td>NaN</td>\n",
       "      <td>0</td>\n",
       "    </tr>\n",
       "  </tbody>\n",
       "</table>\n",
       "</div>"
      ],
      "text/plain": [
       "       ip  app  device  os  channel           click_time  attributed_time  \\\n",
       "0   83230    3       1  13      379  2017-11-06 14:32:21              NaN   \n",
       "1   17357    3       1  19      379  2017-11-06 14:33:34              NaN   \n",
       "2   35810    3       1  13      379  2017-11-06 14:34:12              NaN   \n",
       "3   45745   14       1  13      478  2017-11-06 14:34:52              NaN   \n",
       "4  161007    3       1  13      379  2017-11-06 14:35:08              NaN   \n",
       "\n",
       "   is_attributed  \n",
       "0              0  \n",
       "1              0  \n",
       "2              0  \n",
       "3              0  \n",
       "4              0  "
      ]
     },
     "execution_count": 3,
     "metadata": {},
     "output_type": "execute_result"
    }
   ],
   "source": [
    "chunks.get_chunk(5)"
   ]
  },
  {
   "cell_type": "markdown",
   "metadata": {},
   "source": [
    "**说明:**由于数据集非常大，可以看到click_time, attributed_time是时间数据，attributed_time有大量缺失值"
   ]
  },
  {
   "cell_type": "markdown",
   "metadata": {},
   "source": [
    "**统计各离散变量unique数**"
   ]
  },
  {
   "cell_type": "code",
   "execution_count": 5,
   "metadata": {
    "collapsed": false
   },
   "outputs": [
    {
     "name": "stdout",
     "output_type": "stream",
     "text": [
      "programme start!\n",
      "progamme over!\n"
     ]
    }
   ],
   "source": [
    "chunks = pd.read_csv('train.csv',  chunksize=2000000)\n",
    "ip_set = set()\n",
    "app_set = set()\n",
    "channel_set = set()\n",
    "os_set = set()\n",
    "device_set = set()\n",
    "\n",
    "print('programme start!')  \n",
    "for chunk in chunks:\n",
    "    \n",
    "    ip_list = chunk['ip']\n",
    "    app_list = chunk['app']\n",
    "    channel_list = chunk['channel']\n",
    "    os_list = chunk['os']\n",
    "    device_list = chunk['device']\n",
    "\n",
    "    ip_set = set(ip_list) | ip_set\n",
    "    app_set = set(app_list) | app_set\n",
    "    channel_set = set(channel_list) |channel_set\n",
    "    os_set = set(os_list) | os_set\n",
    "    device_set = set(device_list) | device_set\n",
    "    \n",
    "\n",
    "print(\"progamme over!\")"
   ]
  },
  {
   "cell_type": "markdown",
   "metadata": {},
   "source": [
    "**输出离散变量unique count的结果**\n"
   ]
  },
  {
   "cell_type": "code",
   "execution_count": 6,
   "metadata": {
    "collapsed": false
   },
   "outputs": [
    {
     "data": {
      "text/plain": [
       "ip         277396\n",
       "app           706\n",
       "channel       202\n",
       "os            800\n",
       "device       3475\n",
       "dtype: int64"
      ]
     },
     "execution_count": 6,
     "metadata": {},
     "output_type": "execute_result"
    }
   ],
   "source": [
    "unique_series = pd.Series()\n",
    "unique_series['ip'] = len(ip_set)\n",
    "unique_series['app'] = len(app_set)\n",
    "unique_series['channel'] = len(channel_set)\n",
    "unique_series['os'] = len(os_set)\n",
    "unique_series['device'] = len(device_set)\n",
    "\n",
    "unique_series\n",
    "    "
   ]
  },
  {
   "cell_type": "code",
   "execution_count": 7,
   "metadata": {
    "collapsed": false
   },
   "outputs": [
    {
     "data": {
      "text/plain": [
       "666.570137997664"
      ]
     },
     "execution_count": 7,
     "metadata": {},
     "output_type": "execute_result"
    }
   ],
   "source": [
    "per_click = 184903890./277396\n",
    "per_click"
   ]
  },
  {
   "cell_type": "markdown",
   "metadata": {},
   "source": [
    "**说明：**四天时间一共277396个ip通过各种渠道进行了访问，平均ip点击次数：666.57"
   ]
  },
  {
   "cell_type": "markdown",
   "metadata": {},
   "source": [
    "**绘制除ip外离散变量unique条行图**"
   ]
  },
  {
   "cell_type": "code",
   "execution_count": 8,
   "metadata": {
    "collapsed": false
   },
   "outputs": [
    {
     "data": {
      "image/png": "[encoded data removed]",
      "text/plain": [
       "<matplotlib.figure.Figure at 0x28c005be0f0>"
      ]
     },
     "metadata": {},
     "output_type": "display_data"
    }
   ],
   "source": [
    "plt.figure(figsize=(8, 5))\n",
    "plt.title('discrete variables counts(unque)')\n",
    "unique_series = unique_series.drop('ip')\n",
    "x = range(len(unique_series))\n",
    "plt.bar(x, unique_series)\n",
    "plt.xticks(x, unique_series.index)\n",
    "plt.show()"
   ]
  },
  {
   "cell_type": "code",
   "execution_count": 9,
   "metadata": {
    "collapsed": true
   },
   "outputs": [],
   "source": [
    "# save file\n",
    "unique_series.to_csv('unique_of_descrete.csv')"
   ]
  },
  {
   "cell_type": "markdown",
   "metadata": {},
   "source": [
    "**统计app下载情况分布**"
   ]
  },
  {
   "cell_type": "code",
   "execution_count": 10,
   "metadata": {
    "collapsed": false
   },
   "outputs": [
    {
     "name": "stdout",
     "output_type": "stream",
     "text": [
      "prog start!\n",
      "prog end\n",
      "0    184447044\n",
      "1       456846\n",
      "dtype: int64\n"
     ]
    }
   ],
   "source": [
    "is_attributed_counts = pd.Series([0,0], index=[0, 1])\n",
    "\n",
    "chunks = pd.read_csv('train.csv',  chunksize=2000000)\n",
    "\n",
    "print('prog start!')\n",
    "for chunk in chunks:\n",
    "    \n",
    "    c = chunk['is_attributed'].value_counts()\n",
    "    is_attributed_counts[0] += c[0]\n",
    "    is_attributed_counts[1] += c[1]\n",
    "    \n",
    "print('prog end')\n",
    "print(is_attributed_counts)"
   ]
  },
  {
   "cell_type": "code",
   "execution_count": 20,
   "metadata": {
    "collapsed": false
   },
   "outputs": [
    {
     "name": "stdout",
     "output_type": "stream",
     "text": [
      "attributed_ratio is  0.2471% \n"
     ]
    }
   ],
   "source": [
    "attributed_ratio = round((is_attributed_counts[1]/is_attributed_counts.sum()) * 100, 4)\n",
    "print(\"attributed_ratio is  {}% \".format(attributed_ratio))"
   ]
  },
  {
   "cell_type": "markdown",
   "metadata": {},
   "source": [
    "**说明：**样本非常不均匀，下载了app的点击比例非常稀少，可以作barplot进行可视化"
   ]
  },
  {
   "cell_type": "code",
   "execution_count": 13,
   "metadata": {
    "collapsed": false
   },
   "outputs": [
    {
     "data": {
      "image/png": "[encoded data removed]",
      "text/plain": [
       "<matplotlib.figure.Figure at 0x28c0285d7b8>"
      ]
     },
     "metadata": {},
     "output_type": "display_data"
    }
   ],
   "source": [
    "plt.figure(figsize=(10, 8))\n",
    "plt.title('barplot of is_attributed')\n",
    "plt.bar(is_attributed_counts.index, is_attributed_counts, width=0.5)\n",
    "\n",
    "plt.show()"
   ]
  },
  {
   "cell_type": "code",
   "execution_count": 21,
   "metadata": {
    "collapsed": true
   },
   "outputs": [],
   "source": [
    "#save res\n",
    "is_attributed_counts.to_csv('is_attributed_counts.csv')"
   ]
  },
  {
   "cell_type": "markdown",
   "metadata": {},
   "source": [
    "\n",
    "**统计每一个ip访问次数**"
   ]
  },
  {
   "cell_type": "code",
   "execution_count": 22,
   "metadata": {
    "collapsed": false
   },
   "outputs": [
    {
     "name": "stdout",
     "output_type": "stream",
     "text": [
      "progamme start!\n",
      "progamme end!\n"
     ]
    }
   ],
   "source": [
    "\n",
    "chunks = pd.read_csv('train.csv',  chunksize=2000000)\n",
    "\n",
    "ip_counts = pd.Series()\n",
    "\n",
    "print('progamme start!')\n",
    "for chunk in chunks:\n",
    "    ip_c = chunk['ip'].value_counts()\n",
    "    ip_counts = ip_counts.append(ip_c, ignore_index=False)\n",
    "\n",
    "print('progamme end!')\n"
   ]
  },
  {
   "cell_type": "code",
   "execution_count": 23,
   "metadata": {
    "collapsed": false
   },
   "outputs": [],
   "source": [
    "ip_counts = ip_counts.groupby(ip_counts.index).sum()"
   ]
  },
  {
   "cell_type": "markdown",
   "metadata": {},
   "source": [
    "**绘制累积分布图&频数分布直方图**"
   ]
  },
  {
   "cell_type": "code",
   "execution_count": 24,
   "metadata": {
    "collapsed": false
   },
   "outputs": [
    {
     "data": {
      "image/png": "[encoded data removed]",
      "text/plain": [
       "<matplotlib.figure.Figure at 0x28c0168cc88>"
      ]
     },
     "metadata": {},
     "output_type": "display_data"
    }
   ],
   "source": [
    "plt.figure(figsize=(12, 6))\n",
    "plt.subplot(121)\n",
    "plt.title('Cumulative Distribution of ip counts')\n",
    "plt.plot(ip_counts.sort_values().values)\n",
    "plt.ylabel('click times')\n",
    "plt.xlabel('ip index')\n",
    "\n",
    "plt.subplot(122)\n",
    "plt.title('histogram of ip counts')\n",
    "plt.hist(ip_counts, bins=200)\n",
    "plt.show()"
   ]
  },
  {
   "cell_type": "code",
   "execution_count": 26,
   "metadata": {
    "collapsed": false
   },
   "outputs": [
    {
     "name": "stdout",
     "output_type": "stream",
     "text": [
      "count    2.773960e+05\n",
      "mean     6.665701e+02\n",
      "std      5.446831e+03\n",
      "min      1.000000e+00\n",
      "25%      3.000000e+00\n",
      "50%      1.300000e+01\n",
      "75%      1.490000e+02\n",
      "max      1.238734e+06\n",
      "dtype: float64\n"
     ]
    }
   ],
   "source": [
    "print(round(ip_counts.describe(), 4))"
   ]
  },
  {
   "cell_type": "code",
   "execution_count": 27,
   "metadata": {
    "collapsed": true
   },
   "outputs": [],
   "source": [
    "# save res\n",
    "ip_counts.to_csv(\"ip_counts.csv\")"
   ]
  },
  {
   "cell_type": "markdown",
   "metadata": {},
   "source": [
    "**查看异常高频点击ip，并统计相关比例**"
   ]
  },
  {
   "cell_type": "code",
   "execution_count": 48,
   "metadata": {
    "collapsed": false
   },
   "outputs": [
    {
     "name": "stdout",
     "output_type": "stream",
     "text": [
      "0    276326\n",
      "1      1070\n",
      "dtype: int64\n"
     ]
    }
   ],
   "source": [
    "three_sigma_plus = ip_counts.mean() + (3*ip_counts.std())\n",
    "ip_counts_is_outlier = np.where(ip_counts > three_sigma_plus, 1, 0)\n",
    "ip_counts_is_outlier = pd.Series(ip_counts_is_outlier, index=ip_counts.index)\n",
    "print(ip_counts_is_outlier.value_counts())"
   ]
  },
  {
   "cell_type": "markdown",
   "metadata": {},
   "source": [
    "**说明**从中我们可以看出，超出+3sigma的ip地址比例不高，可以查看一下是否下载和这些ip之间的关系"
   ]
  },
  {
   "cell_type": "code",
   "execution_count": 33,
   "metadata": {
    "collapsed": false
   },
   "outputs": [
    {
     "name": "stdout",
     "output_type": "stream",
     "text": [
      "progamme start!\n",
      "progamme end!\n"
     ]
    }
   ],
   "source": [
    "chunks = pd.read_csv('train.csv',  chunksize=2000000)\n",
    "\n",
    "ip_attr_counts = pd.Series()\n",
    "\n",
    "print('progamme start!')\n",
    "for chunk in chunks:\n",
    "    ip_c = chunk['is_attributed'].groupby(chunk['ip']).sum()\n",
    "    ip_attr_counts = ip_attr_counts.append(ip_c, ignore_index=False)\n",
    "\n",
    "print('progamme end!')"
   ]
  },
  {
   "cell_type": "code",
   "execution_count": 43,
   "metadata": {
    "collapsed": false
   },
   "outputs": [],
   "source": [
    "ip_attr_counts = ip_attr_counts.groupby(ip_attr_counts.index).sum()"
   ]
  },
  {
   "cell_type": "code",
   "execution_count": 50,
   "metadata": {
    "collapsed": false
   },
   "outputs": [
    {
     "data": {
      "text/html": [
       "<div>\n",
       "<table border=\"1\" class=\"dataframe\">\n",
       "  <thead>\n",
       "    <tr style=\"text-align: right;\">\n",
       "      <th></th>\n",
       "      <th>is_outlier</th>\n",
       "      <th>click_times</th>\n",
       "      <th>attr_times</th>\n",
       "    </tr>\n",
       "  </thead>\n",
       "  <tbody>\n",
       "    <tr>\n",
       "      <th>1</th>\n",
       "      <td>0</td>\n",
       "      <td>47</td>\n",
       "      <td>9</td>\n",
       "    </tr>\n",
       "    <tr>\n",
       "      <th>5</th>\n",
       "      <td>0</td>\n",
       "      <td>24</td>\n",
       "      <td>0</td>\n",
       "    </tr>\n",
       "    <tr>\n",
       "      <th>6</th>\n",
       "      <td>0</td>\n",
       "      <td>1454</td>\n",
       "      <td>2</td>\n",
       "    </tr>\n",
       "    <tr>\n",
       "      <th>9</th>\n",
       "      <td>0</td>\n",
       "      <td>4029</td>\n",
       "      <td>6</td>\n",
       "    </tr>\n",
       "    <tr>\n",
       "      <th>10</th>\n",
       "      <td>0</td>\n",
       "      <td>1180</td>\n",
       "      <td>3</td>\n",
       "    </tr>\n",
       "  </tbody>\n",
       "</table>\n",
       "</div>"
      ],
      "text/plain": [
       "    is_outlier  click_times  attr_times\n",
       "1            0           47           9\n",
       "5            0           24           0\n",
       "6            0         1454           2\n",
       "9            0         4029           6\n",
       "10           0         1180           3"
      ]
     },
     "execution_count": 50,
     "metadata": {},
     "output_type": "execute_result"
    }
   ],
   "source": [
    "ip_counts_df = pd.concat([ip_counts_is_outlier.sort_index(),\n",
    "                          ip_counts.sort_index(),\n",
    "                          ip_attr_counts.sort_values()], axis=1)\n",
    "ip_counts_df.columns = ['is_outlier', 'click_times', 'attr_times']\n",
    "ip_counts_df.head()"
   ]
  },
  {
   "cell_type": "code",
   "execution_count": 53,
   "metadata": {
    "collapsed": false
   },
   "outputs": [
    {
     "data": {
      "text/plain": [
       "is_outlier\n",
       "0     1.475594\n",
       "1    45.888785\n",
       "Name: attr_times, dtype: float64"
      ]
     },
     "execution_count": 53,
     "metadata": {},
     "output_type": "execute_result"
    }
   ],
   "source": [
    "g = ip_counts_df.groupby('is_outlier')\n",
    "g['attr_times'].mean()"
   ]
  },
  {
   "cell_type": "markdown",
   "metadata": {},
   "source": [
    "点击越多，下载越多"
   ]
  },
  {
   "cell_type": "markdown",
   "metadata": {},
   "source": [
    "**查看下载比例&是否下载和点击量异常高ip之间的关系**"
   ]
  },
  {
   "cell_type": "code",
   "execution_count": 54,
   "metadata": {
    "collapsed": false
   },
   "outputs": [
    {
     "data": {
      "text/html": [
       "<div>\n",
       "<table border=\"1\" class=\"dataframe\">\n",
       "  <thead>\n",
       "    <tr style=\"text-align: right;\">\n",
       "      <th>is_outlier</th>\n",
       "      <th>0</th>\n",
       "      <th>1</th>\n",
       "    </tr>\n",
       "    <tr>\n",
       "      <th>is_attributed</th>\n",
       "      <th></th>\n",
       "      <th></th>\n",
       "    </tr>\n",
       "  </thead>\n",
       "  <tbody>\n",
       "    <tr>\n",
       "      <th>0</th>\n",
       "      <td>32358</td>\n",
       "      <td>0</td>\n",
       "    </tr>\n",
       "    <tr>\n",
       "      <th>1</th>\n",
       "      <td>243968</td>\n",
       "      <td>1070</td>\n",
       "    </tr>\n",
       "  </tbody>\n",
       "</table>\n",
       "</div>"
      ],
      "text/plain": [
       "is_outlier          0     1\n",
       "is_attributed              \n",
       "0               32358     0\n",
       "1              243968  1070"
      ]
     },
     "execution_count": 54,
     "metadata": {},
     "output_type": "execute_result"
    }
   ],
   "source": [
    "ip_counts_df['is_attributed'] = np.where(ip_counts_df['attr_times']>0, 1, 0)\n",
    "pd.crosstab(index=ip_counts_df['is_attributed'], columns=ip_counts_df['is_outlier'])"
   ]
  },
  {
   "cell_type": "code",
   "execution_count": 63,
   "metadata": {
    "collapsed": false
   },
   "outputs": [
    {
     "data": {
      "image/png": "[encoded data removed]",
      "text/plain": [
       "<matplotlib.figure.Figure at 0x28c0b7ce978>"
      ]
     },
     "metadata": {},
     "output_type": "display_data"
    }
   ],
   "source": [
    "plt.figure(figsize=(10, 8))\n",
    "plt.title('barplot of is_attributed group by ip')\n",
    "c = ip_counts_df['is_attributed'].value_counts()\n",
    "plt.bar(c.index, c, width=0.5)\n",
    "plt.xticks((0, 1), ('non_attribute', 'has_attribute'))\n",
    "plt.show()\n"
   ]
  },
  {
   "cell_type": "code",
   "execution_count": 55,
   "metadata": {
    "collapsed": false
   },
   "outputs": [
    {
     "data": {
      "text/html": [
       "<div>\n",
       "<table border=\"1\" class=\"dataframe\">\n",
       "  <thead>\n",
       "    <tr style=\"text-align: right;\">\n",
       "      <th></th>\n",
       "      <th>is_outlier</th>\n",
       "      <th>click_times</th>\n",
       "      <th>attr_times</th>\n",
       "      <th>is_attributed</th>\n",
       "      <th>attr_ratio</th>\n",
       "    </tr>\n",
       "  </thead>\n",
       "  <tbody>\n",
       "    <tr>\n",
       "      <th>count</th>\n",
       "      <td>277396.000000</td>\n",
       "      <td>2.773960e+05</td>\n",
       "      <td>277396.000000</td>\n",
       "      <td>277396.000000</td>\n",
       "      <td>277396.000000</td>\n",
       "    </tr>\n",
       "    <tr>\n",
       "      <th>mean</th>\n",
       "      <td>0.003857</td>\n",
       "      <td>6.665701e+02</td>\n",
       "      <td>1.646909</td>\n",
       "      <td>0.883351</td>\n",
       "      <td>0.256061</td>\n",
       "    </tr>\n",
       "    <tr>\n",
       "      <th>std</th>\n",
       "      <td>0.061987</td>\n",
       "      <td>5.446831e+03</td>\n",
       "      <td>8.023996</td>\n",
       "      <td>0.321002</td>\n",
       "      <td>0.351494</td>\n",
       "    </tr>\n",
       "    <tr>\n",
       "      <th>min</th>\n",
       "      <td>0.000000</td>\n",
       "      <td>1.000000e+00</td>\n",
       "      <td>0.000000</td>\n",
       "      <td>0.000000</td>\n",
       "      <td>0.000000</td>\n",
       "    </tr>\n",
       "    <tr>\n",
       "      <th>25%</th>\n",
       "      <td>0.000000</td>\n",
       "      <td>3.000000e+00</td>\n",
       "      <td>1.000000</td>\n",
       "      <td>1.000000</td>\n",
       "      <td>0.002200</td>\n",
       "    </tr>\n",
       "    <tr>\n",
       "      <th>50%</th>\n",
       "      <td>0.000000</td>\n",
       "      <td>1.300000e+01</td>\n",
       "      <td>1.000000</td>\n",
       "      <td>1.000000</td>\n",
       "      <td>0.066667</td>\n",
       "    </tr>\n",
       "    <tr>\n",
       "      <th>75%</th>\n",
       "      <td>0.000000</td>\n",
       "      <td>1.490000e+02</td>\n",
       "      <td>1.000000</td>\n",
       "      <td>1.000000</td>\n",
       "      <td>0.333333</td>\n",
       "    </tr>\n",
       "    <tr>\n",
       "      <th>max</th>\n",
       "      <td>1.000000</td>\n",
       "      <td>1.238734e+06</td>\n",
       "      <td>2340.000000</td>\n",
       "      <td>1.000000</td>\n",
       "      <td>1.000000</td>\n",
       "    </tr>\n",
       "  </tbody>\n",
       "</table>\n",
       "</div>"
      ],
      "text/plain": [
       "          is_outlier   click_times     attr_times  is_attributed  \\\n",
       "count  277396.000000  2.773960e+05  277396.000000  277396.000000   \n",
       "mean        0.003857  6.665701e+02       1.646909       0.883351   \n",
       "std         0.061987  5.446831e+03       8.023996       0.321002   \n",
       "min         0.000000  1.000000e+00       0.000000       0.000000   \n",
       "25%         0.000000  3.000000e+00       1.000000       1.000000   \n",
       "50%         0.000000  1.300000e+01       1.000000       1.000000   \n",
       "75%         0.000000  1.490000e+02       1.000000       1.000000   \n",
       "max         1.000000  1.238734e+06    2340.000000       1.000000   \n",
       "\n",
       "          attr_ratio  \n",
       "count  277396.000000  \n",
       "mean        0.256061  \n",
       "std         0.351494  \n",
       "min         0.000000  \n",
       "25%         0.002200  \n",
       "50%         0.066667  \n",
       "75%         0.333333  \n",
       "max         1.000000  "
      ]
     },
     "execution_count": 55,
     "metadata": {},
     "output_type": "execute_result"
    }
   ],
   "source": [
    "ip_counts_df['attr_ratio'] = ip_counts_df['attr_times']/ip_counts_df['click_times']\n",
    "ip_counts_df.describe().to_csv('ip_counts_desc.csv')"
   ]
  },
  {
   "cell_type": "code",
   "execution_count": 217,
   "metadata": {
    "collapsed": true
   },
   "outputs": [],
   "source": [
    "ip_counts_df.describe().to_csv('ip_counts_desc.csv')"
   ]
  },
  {
   "cell_type": "markdown",
   "metadata": {},
   "source": [
    "**结论：**\n",
    "\n",
    "* 数据分布极不均匀，有少数ip点击次数极多,\n",
    "* 点击量异常高的ip下载也高，并且可以看到，点击量极高的1070个ip里没有下载的数量为0\n",
    "* 平均下载比例为0.25，也就是说一个ip平均每4次点击就会产生一次下载行为\n",
    "* 大部分ip都有过下载行为,也就是说，有少数ip，可能导致了大量的无效点击"
   ]
  },
  {
   "cell_type": "code",
   "execution_count": 56,
   "metadata": {
    "collapsed": true
   },
   "outputs": [],
   "source": [
    "#save res\n",
    "ip_counts_df.to_csv('ip_counts.csv')"
   ]
  },
  {
   "cell_type": "markdown",
   "metadata": {},
   "source": [
    "**分析app变量**"
   ]
  },
  {
   "cell_type": "code",
   "execution_count": 66,
   "metadata": {
    "collapsed": false
   },
   "outputs": [
    {
     "name": "stdout",
     "output_type": "stream",
     "text": [
      "progamme start!\n",
      "progamme end!\n"
     ]
    }
   ],
   "source": [
    "chunks = pd.read_csv('train.csv',  chunksize=2000000)\n",
    "\n",
    "app_counts = pd.Series()\n",
    "app_attr_times = pd.Series()\n",
    "\n",
    "print('progamme start!')\n",
    "for chunk in chunks:\n",
    "    c_1 = chunk['app'].value_counts()\n",
    "    c_2 = chunk['is_attributed'].groupby(chunk['app']).sum()\n",
    "    #c = pd.concat([c_1.sort_index(), c_2.sort_index], axis=1)\n",
    "    app_counts = app_counts.append(c_1, ignore_index=False)\n",
    "    app_attr_times = app_attr_times.append(c_2, ignore_index=False)\n",
    "\n",
    "print('progamme end!')"
   ]
  },
  {
   "cell_type": "code",
   "execution_count": 71,
   "metadata": {
    "collapsed": false
   },
   "outputs": [],
   "source": [
    "app_counts = app_counts.groupby(app_counts.index).sum()\n",
    "app_attr_times = app_attr_times.groupby(app_attr_times.index).sum()"
   ]
  },
  {
   "cell_type": "code",
   "execution_count": 76,
   "metadata": {
    "collapsed": false
   },
   "outputs": [
    {
     "data": {
      "text/html": [
       "<div>\n",
       "<table border=\"1\" class=\"dataframe\">\n",
       "  <thead>\n",
       "    <tr style=\"text-align: right;\">\n",
       "      <th></th>\n",
       "      <th>click_times</th>\n",
       "      <th>attr_times</th>\n",
       "    </tr>\n",
       "  </thead>\n",
       "  <tbody>\n",
       "    <tr>\n",
       "      <th>0</th>\n",
       "      <td>3248</td>\n",
       "      <td>1005</td>\n",
       "    </tr>\n",
       "    <tr>\n",
       "      <th>1</th>\n",
       "      <td>5796274</td>\n",
       "      <td>1230</td>\n",
       "    </tr>\n",
       "    <tr>\n",
       "      <th>2</th>\n",
       "      <td>21642136</td>\n",
       "      <td>5661</td>\n",
       "    </tr>\n",
       "    <tr>\n",
       "      <th>3</th>\n",
       "      <td>33911780</td>\n",
       "      <td>10261</td>\n",
       "    </tr>\n",
       "    <tr>\n",
       "      <th>4</th>\n",
       "      <td>126275</td>\n",
       "      <td>5</td>\n",
       "    </tr>\n",
       "  </tbody>\n",
       "</table>\n",
       "</div>"
      ],
      "text/plain": [
       "   click_times  attr_times\n",
       "0         3248        1005\n",
       "1      5796274        1230\n",
       "2     21642136        5661\n",
       "3     33911780       10261\n",
       "4       126275           5"
      ]
     },
     "execution_count": 76,
     "metadata": {},
     "output_type": "execute_result"
    }
   ],
   "source": [
    "app_stats = pd.DataFrame(index=app_counts.index)\n",
    "app_stats['click_times'] = app_counts.sort_index() \n",
    "app_stats['attr_times'] = app_attr_times.sort_index()\n",
    "app_stats.head()"
   ]
  },
  {
   "cell_type": "code",
   "execution_count": 77,
   "metadata": {
    "collapsed": false
   },
   "outputs": [
    {
     "data": {
      "text/html": [
       "<div>\n",
       "<table border=\"1\" class=\"dataframe\">\n",
       "  <thead>\n",
       "    <tr style=\"text-align: right;\">\n",
       "      <th></th>\n",
       "      <th>click_times</th>\n",
       "      <th>attr_times</th>\n",
       "    </tr>\n",
       "  </thead>\n",
       "  <tbody>\n",
       "    <tr>\n",
       "      <th>count</th>\n",
       "      <td>7.060000e+02</td>\n",
       "      <td>706.000000</td>\n",
       "    </tr>\n",
       "    <tr>\n",
       "      <th>mean</th>\n",
       "      <td>2.619035e+05</td>\n",
       "      <td>647.090652</td>\n",
       "    </tr>\n",
       "    <tr>\n",
       "      <th>std</th>\n",
       "      <td>2.118369e+06</td>\n",
       "      <td>6081.710349</td>\n",
       "    </tr>\n",
       "    <tr>\n",
       "      <th>min</th>\n",
       "      <td>1.000000e+00</td>\n",
       "      <td>0.000000</td>\n",
       "    </tr>\n",
       "    <tr>\n",
       "      <th>25%</th>\n",
       "      <td>2.000000e+00</td>\n",
       "      <td>0.000000</td>\n",
       "    </tr>\n",
       "    <tr>\n",
       "      <th>50%</th>\n",
       "      <td>2.900000e+01</td>\n",
       "      <td>0.000000</td>\n",
       "    </tr>\n",
       "    <tr>\n",
       "      <th>75%</th>\n",
       "      <td>7.532500e+02</td>\n",
       "      <td>3.000000</td>\n",
       "    </tr>\n",
       "    <tr>\n",
       "      <th>max</th>\n",
       "      <td>3.391178e+07</td>\n",
       "      <td>132390.000000</td>\n",
       "    </tr>\n",
       "  </tbody>\n",
       "</table>\n",
       "</div>"
      ],
      "text/plain": [
       "        click_times     attr_times\n",
       "count  7.060000e+02     706.000000\n",
       "mean   2.619035e+05     647.090652\n",
       "std    2.118369e+06    6081.710349\n",
       "min    1.000000e+00       0.000000\n",
       "25%    2.000000e+00       0.000000\n",
       "50%    2.900000e+01       0.000000\n",
       "75%    7.532500e+02       3.000000\n",
       "max    3.391178e+07  132390.000000"
      ]
     },
     "execution_count": 77,
     "metadata": {},
     "output_type": "execute_result"
    }
   ],
   "source": [
    "app_stats.describe()"
   ]
  },
  {
   "cell_type": "markdown",
   "metadata": {},
   "source": [
    "**说明：**\n",
    "\n",
    "* 平均每个app下载次数为647，而点击次数为26w以上，平均点击后下载率为仅6%\n",
    "* 绝大部分app没有下载几率"
   ]
  },
  {
   "cell_type": "code",
   "execution_count": 78,
   "metadata": {
    "collapsed": false
   },
   "outputs": [
    {
     "data": {
      "text/plain": [
       "count    706.000000\n",
       "mean       0.064204\n",
       "std        0.161892\n",
       "min        0.000000\n",
       "25%        0.000000\n",
       "50%        0.000000\n",
       "75%        0.008699\n",
       "max        1.000000\n",
       "Name: attr_ratio, dtype: float64"
      ]
     },
     "execution_count": 78,
     "metadata": {},
     "output_type": "execute_result"
    }
   ],
   "source": [
    "app_stats['attr_ratio'] = app_stats.attr_times/ app_stats.click_times\n",
    "app_stats.attr_ratio.describe()"
   ]
  },
  {
   "cell_type": "code",
   "execution_count": 80,
   "metadata": {
    "collapsed": false
   },
   "outputs": [
    {
     "data": {
      "image/png": "[encoded data removed]",
      "text/plain": [
       "<matplotlib.figure.Figure at 0x28c1bfa6f28>"
      ]
     },
     "metadata": {},
     "output_type": "display_data"
    }
   ],
   "source": [
    "app_stats['has_attributed'] = np.where(app_stats['attr_times'] > 0, 1, 0)\n",
    "plt.figure(figsize=(10, 8))\n",
    "plt.title('barplot of has_attributed group by app')\n",
    "c = app_stats['has_attributed'].value_counts()\n",
    "plt.bar(c.index, c, width=0.5)\n",
    "plt.xticks((0, 1), ('non_attribute', 'has_attribute'))\n",
    "plt.show()\n"
   ]
  },
  {
   "cell_type": "code",
   "execution_count": 220,
   "metadata": {
    "collapsed": false
   },
   "outputs": [
    {
     "data": {
      "text/html": [
       "<div>\n",
       "<table border=\"1\" class=\"dataframe\">\n",
       "  <thead>\n",
       "    <tr style=\"text-align: right;\">\n",
       "      <th></th>\n",
       "      <th>click_times</th>\n",
       "      <th>attr_times</th>\n",
       "      <th>attr_ratio</th>\n",
       "      <th>has_attributed</th>\n",
       "    </tr>\n",
       "  </thead>\n",
       "  <tbody>\n",
       "    <tr>\n",
       "      <th>3</th>\n",
       "      <td>33911780</td>\n",
       "      <td>10261</td>\n",
       "      <td>0.000303</td>\n",
       "      <td>1</td>\n",
       "    </tr>\n",
       "    <tr>\n",
       "      <th>12</th>\n",
       "      <td>24179003</td>\n",
       "      <td>2640</td>\n",
       "      <td>0.000109</td>\n",
       "      <td>1</td>\n",
       "    </tr>\n",
       "    <tr>\n",
       "      <th>2</th>\n",
       "      <td>21642136</td>\n",
       "      <td>5661</td>\n",
       "      <td>0.000262</td>\n",
       "      <td>1</td>\n",
       "    </tr>\n",
       "    <tr>\n",
       "      <th>9</th>\n",
       "      <td>16458268</td>\n",
       "      <td>18823</td>\n",
       "      <td>0.001144</td>\n",
       "      <td>1</td>\n",
       "    </tr>\n",
       "    <tr>\n",
       "      <th>15</th>\n",
       "      <td>15958970</td>\n",
       "      <td>3418</td>\n",
       "      <td>0.000214</td>\n",
       "      <td>1</td>\n",
       "    </tr>\n",
       "  </tbody>\n",
       "</table>\n",
       "</div>"
      ],
      "text/plain": [
       "    click_times  attr_times  attr_ratio  has_attributed\n",
       "3      33911780       10261    0.000303               1\n",
       "12     24179003        2640    0.000109               1\n",
       "2      21642136        5661    0.000262               1\n",
       "9      16458268       18823    0.001144               1\n",
       "15     15958970        3418    0.000214               1"
      ]
     },
     "execution_count": 220,
     "metadata": {},
     "output_type": "execute_result"
    }
   ],
   "source": [
    "# save res\n",
    "app_stats.to_csv(\"app_stats.csv\")\n",
    "app_stats.sort_values(by='click_times', ascending=False).head()"
   ]
  },
  {
   "cell_type": "markdown",
   "metadata": {},
   "source": [
    "**分析channel变量**"
   ]
  },
  {
   "cell_type": "code",
   "execution_count": 85,
   "metadata": {
    "collapsed": true
   },
   "outputs": [],
   "source": [
    "\n",
    "def discrete_anna(varname):\n",
    "\n",
    "    chunks = pd.read_csv('train.csv',  chunksize=2000000)\n",
    "\n",
    "    counts = pd.Series()\n",
    "    attr_times = pd.Series()\n",
    "\n",
    "    print('loop start of {}'.format(varname))\n",
    "    for chunk in chunks:\n",
    "        c_1 = chunk[varname].value_counts()\n",
    "        c_2 = chunk['is_attributed'].groupby(chunk[varname]).sum()\n",
    "        #c = pd.concat([c_1.sort_index(), c_2.sort_index], axis=1)\n",
    "        counts = counts.append(c_1, ignore_index=False)\n",
    "        attr_times = attr_times.append(c_2, ignore_index=False)\n",
    "\n",
    "    print('loop end of {} '.format(varname))\n",
    "    counts = counts.groupby(counts.index).sum()\n",
    "    attr_times = attr_times.groupby(attr_times.index).sum()\n",
    "    \n",
    "    return counts, attr_times"
   ]
  },
  {
   "cell_type": "code",
   "execution_count": 86,
   "metadata": {
    "collapsed": false
   },
   "outputs": [
    {
     "name": "stdout",
     "output_type": "stream",
     "text": [
      "loop start!\n",
      "loop end!\n",
      "loop start!\n",
      "loop end!\n",
      "loop start!\n",
      "loop end!\n"
     ]
    }
   ],
   "source": [
    "channel_counts, channel_attr = discrete_anna('channel')\n",
    "os_counts, os_attr = discrete_anna('os')\n",
    "device_counts, device_attr = discrete_anna('device')"
   ]
  },
  {
   "cell_type": "code",
   "execution_count": null,
   "metadata": {
    "collapsed": true
   },
   "outputs": [],
   "source": [
    "channel_stat = pd.DataFrame()\n",
    "channel_stat['counts'] = channel_counts.sort_index()\n",
    "channel_stat['attr_times'] = channel_attr\n",
    "channel_stat.attr_times.sum()"
   ]
  },
  {
   "cell_type": "code",
   "execution_count": 91,
   "metadata": {
    "collapsed": false
   },
   "outputs": [
    {
     "data": {
      "text/html": [
       "<div>\n",
       "<table border=\"1\" class=\"dataframe\">\n",
       "  <thead>\n",
       "    <tr style=\"text-align: right;\">\n",
       "      <th></th>\n",
       "      <th>counts</th>\n",
       "      <th>attr_times</th>\n",
       "      <th>has_attributed</th>\n",
       "      <th>attribute_rate</th>\n",
       "    </tr>\n",
       "  </thead>\n",
       "  <tbody>\n",
       "    <tr>\n",
       "      <th>count</th>\n",
       "      <td>2.020000e+02</td>\n",
       "      <td>202.000000</td>\n",
       "      <td>202.000000</td>\n",
       "      <td>202.000000</td>\n",
       "    </tr>\n",
       "    <tr>\n",
       "      <th>mean</th>\n",
       "      <td>9.153658e+05</td>\n",
       "      <td>2261.613861</td>\n",
       "      <td>0.861386</td>\n",
       "      <td>0.043271</td>\n",
       "    </tr>\n",
       "    <tr>\n",
       "      <th>std</th>\n",
       "      <td>1.815411e+06</td>\n",
       "      <td>10994.376570</td>\n",
       "      <td>0.346402</td>\n",
       "      <td>0.138098</td>\n",
       "    </tr>\n",
       "    <tr>\n",
       "      <th>min</th>\n",
       "      <td>1.000000e+00</td>\n",
       "      <td>0.000000</td>\n",
       "      <td>0.000000</td>\n",
       "      <td>0.000000</td>\n",
       "    </tr>\n",
       "    <tr>\n",
       "      <th>25%</th>\n",
       "      <td>4.234500e+03</td>\n",
       "      <td>12.000000</td>\n",
       "      <td>1.000000</td>\n",
       "      <td>0.000153</td>\n",
       "    </tr>\n",
       "    <tr>\n",
       "      <th>50%</th>\n",
       "      <td>1.077880e+05</td>\n",
       "      <td>156.500000</td>\n",
       "      <td>1.000000</td>\n",
       "      <td>0.000457</td>\n",
       "    </tr>\n",
       "    <tr>\n",
       "      <th>75%</th>\n",
       "      <td>1.019082e+06</td>\n",
       "      <td>813.000000</td>\n",
       "      <td>1.000000</td>\n",
       "      <td>0.003615</td>\n",
       "    </tr>\n",
       "    <tr>\n",
       "      <th>max</th>\n",
       "      <td>1.506593e+07</td>\n",
       "      <td>133070.000000</td>\n",
       "      <td>1.000000</td>\n",
       "      <td>0.952450</td>\n",
       "    </tr>\n",
       "  </tbody>\n",
       "</table>\n",
       "</div>"
      ],
      "text/plain": [
       "             counts     attr_times  has_attributed  attribute_rate\n",
       "count  2.020000e+02     202.000000      202.000000      202.000000\n",
       "mean   9.153658e+05    2261.613861        0.861386        0.043271\n",
       "std    1.815411e+06   10994.376570        0.346402        0.138098\n",
       "min    1.000000e+00       0.000000        0.000000        0.000000\n",
       "25%    4.234500e+03      12.000000        1.000000        0.000153\n",
       "50%    1.077880e+05     156.500000        1.000000        0.000457\n",
       "75%    1.019082e+06     813.000000        1.000000        0.003615\n",
       "max    1.506593e+07  133070.000000        1.000000        0.952450"
      ]
     },
     "execution_count": 91,
     "metadata": {},
     "output_type": "execute_result"
    }
   ],
   "source": [
    "channel_stat['has_attributed'] = np.where(channel_stat.attr_times > 0, 1, 0)\n",
    "channel_stat['attribute_rate'] = channel_stat['attr_times']/channel_stat['counts']\n",
    "channel_stat.describe()"
   ]
  },
  {
   "cell_type": "markdown",
   "metadata": {},
   "source": [
    "**说明：**\n",
    "\n",
    "* 86%以上的channel有下载过记录，最高为1.3w\n",
    "* 平均渠道访问量为91.5w，平均下载量为2261次\n",
    "* 平均点击后的下载概率为4.3%"
   ]
  },
  {
   "cell_type": "code",
   "execution_count": 98,
   "metadata": {
    "collapsed": true
   },
   "outputs": [],
   "source": [
    "# save res\n",
    "channel_stat.to_csv('channel_stat.csv')"
   ]
  },
  {
   "cell_type": "markdown",
   "metadata": {},
   "source": [
    "**查看每个渠道下载和点击次数的频数分布情况**"
   ]
  },
  {
   "cell_type": "code",
   "execution_count": 95,
   "metadata": {
    "collapsed": false
   },
   "outputs": [
    {
     "data": {
      "image/png": "[encoded data removed]",
      "text/plain": [
       "<matplotlib.figure.Figure at 0x28c0549a748>"
      ]
     },
     "metadata": {},
     "output_type": "display_data"
    }
   ],
   "source": [
    "\n",
    "plt.figure(figsize=(12, 8))\n",
    "plt.subplot(121)\n",
    "plt.suptitle('histogram of click_times and attr_times')\n",
    "plt.hist(x=channel_stat['counts'], bins=20, color='blue', label='click times')\n",
    "plt.legend(loc='best')\n",
    "plt.subplot(122)\n",
    "plt.hist(x=channel_stat['attr_times'], bins=20, color='red', label='attribute times')\n",
    "plt.legend(loc='best')\n",
    "\n",
    "\n",
    "plt.show()"
   ]
  },
  {
   "cell_type": "code",
   "execution_count": 224,
   "metadata": {
    "collapsed": false
   },
   "outputs": [
    {
     "data": {
      "image/png": "[encoded data removed]",
      "text/plain": [
       "<matplotlib.figure.Figure at 0x28c1949f208>"
      ]
     },
     "metadata": {},
     "output_type": "display_data"
    }
   ],
   "source": [
    "channel_stat['has_attributed'] = np.where(channel_stat['attr_times'] > 0, 1, 0)\n",
    "plt.figure(figsize=(10, 8))\n",
    "plt.title('barplot of has_attributed group by channel')\n",
    "c = channel_stat['has_attributed'].value_counts()\n",
    "plt.bar(c.index, c, width=0.5)\n",
    "plt.xticks((0, 1), ('non_attribute', 'has_attribute'))\n",
    "plt.show()"
   ]
  },
  {
   "cell_type": "code",
   "execution_count": null,
   "metadata": {
    "collapsed": true
   },
   "outputs": [],
   "source": []
  },
  {
   "cell_type": "code",
   "execution_count": 223,
   "metadata": {
    "collapsed": false
   },
   "outputs": [
    {
     "data": {
      "text/plain": [
       "1    174\n",
       "0     28\n",
       "Name: has_attributed, dtype: int64"
      ]
     },
     "execution_count": 223,
     "metadata": {},
     "output_type": "execute_result"
    }
   ],
   "source": [
    "channel_stat.has_attributed.value_counts()"
   ]
  },
  {
   "cell_type": "markdown",
   "metadata": {},
   "source": [
    "**分析os变量**"
   ]
  },
  {
   "cell_type": "code",
   "execution_count": 97,
   "metadata": {
    "collapsed": false
   },
   "outputs": [
    {
     "data": {
      "text/html": [
       "<div>\n",
       "<table border=\"1\" class=\"dataframe\">\n",
       "  <thead>\n",
       "    <tr style=\"text-align: right;\">\n",
       "      <th></th>\n",
       "      <th>click_times</th>\n",
       "      <th>attr_times</th>\n",
       "      <th>has_attributed</th>\n",
       "      <th>attribute_rate</th>\n",
       "    </tr>\n",
       "  </thead>\n",
       "  <tbody>\n",
       "    <tr>\n",
       "      <th>count</th>\n",
       "      <td>8.000000e+02</td>\n",
       "      <td>800.000000</td>\n",
       "      <td>800.000000</td>\n",
       "      <td>800.000000</td>\n",
       "    </tr>\n",
       "    <tr>\n",
       "      <th>mean</th>\n",
       "      <td>2.311299e+05</td>\n",
       "      <td>571.057500</td>\n",
       "      <td>0.145000</td>\n",
       "      <td>0.007943</td>\n",
       "    </tr>\n",
       "    <tr>\n",
       "      <th>std</th>\n",
       "      <td>2.221556e+06</td>\n",
       "      <td>4423.013376</td>\n",
       "      <td>0.352321</td>\n",
       "      <td>0.057189</td>\n",
       "    </tr>\n",
       "    <tr>\n",
       "      <th>min</th>\n",
       "      <td>1.000000e+00</td>\n",
       "      <td>0.000000</td>\n",
       "      <td>0.000000</td>\n",
       "      <td>0.000000</td>\n",
       "    </tr>\n",
       "    <tr>\n",
       "      <th>25%</th>\n",
       "      <td>1.000000e+00</td>\n",
       "      <td>0.000000</td>\n",
       "      <td>0.000000</td>\n",
       "      <td>0.000000</td>\n",
       "    </tr>\n",
       "    <tr>\n",
       "      <th>50%</th>\n",
       "      <td>3.000000e+00</td>\n",
       "      <td>0.000000</td>\n",
       "      <td>0.000000</td>\n",
       "      <td>0.000000</td>\n",
       "    </tr>\n",
       "    <tr>\n",
       "      <th>75%</th>\n",
       "      <td>7.350000e+01</td>\n",
       "      <td>0.000000</td>\n",
       "      <td>0.000000</td>\n",
       "      <td>0.000000</td>\n",
       "    </tr>\n",
       "    <tr>\n",
       "      <th>max</th>\n",
       "      <td>4.418191e+07</td>\n",
       "      <td>79669.000000</td>\n",
       "      <td>1.000000</td>\n",
       "      <td>0.925237</td>\n",
       "    </tr>\n",
       "  </tbody>\n",
       "</table>\n",
       "</div>"
      ],
      "text/plain": [
       "        click_times    attr_times  has_attributed  attribute_rate\n",
       "count  8.000000e+02    800.000000      800.000000      800.000000\n",
       "mean   2.311299e+05    571.057500        0.145000        0.007943\n",
       "std    2.221556e+06   4423.013376        0.352321        0.057189\n",
       "min    1.000000e+00      0.000000        0.000000        0.000000\n",
       "25%    1.000000e+00      0.000000        0.000000        0.000000\n",
       "50%    3.000000e+00      0.000000        0.000000        0.000000\n",
       "75%    7.350000e+01      0.000000        0.000000        0.000000\n",
       "max    4.418191e+07  79669.000000        1.000000        0.925237"
      ]
     },
     "execution_count": 97,
     "metadata": {},
     "output_type": "execute_result"
    }
   ],
   "source": [
    "os_stats = pd.DataFrame()\n",
    "\n",
    "os_stats = pd.DataFrame()\n",
    "os_stats['click_times'] = os_counts.sort_index()\n",
    "os_stats['attr_times'] = os_attr\n",
    "os_stats.attr_times.sum()\n",
    "\n",
    "os_stats['has_attributed'] = np.where(os_stats.attr_times > 0, 1, 0)\n",
    "os_stats['attribute_rate'] = os_stats['attr_times'] / os_stats['click_times']\n",
    "os_stats.describe()"
   ]
  },
  {
   "cell_type": "markdown",
   "metadata": {},
   "source": [
    "**只有少数os有下载记录，可以用barplot表示**"
   ]
  },
  {
   "cell_type": "code",
   "execution_count": 99,
   "metadata": {
    "collapsed": false
   },
   "outputs": [
    {
     "data": {
      "image/png": "[encoded data removed]",
      "text/plain": [
       "<matplotlib.figure.Figure at 0x28c1be929b0>"
      ]
     },
     "metadata": {},
     "output_type": "display_data"
    }
   ],
   "source": [
    "plt.figure(figsize=(9, 6))\n",
    "plt.title('bar plot of os')\n",
    "c = os_stats.has_attributed.value_counts()\n",
    "plt.bar(c.index, c)\n",
    "plt.xticks(c.index, ('no', 'yes'))\n",
    "plt.show()"
   ]
  },
  {
   "cell_type": "code",
   "execution_count": 100,
   "metadata": {
    "collapsed": true
   },
   "outputs": [],
   "source": [
    "# save res\n",
    "os_stats.to_csv(\"os_stats.csv\")"
   ]
  },
  {
   "cell_type": "markdown",
   "metadata": {},
   "source": [
    "** device 类型探索**"
   ]
  },
  {
   "cell_type": "code",
   "execution_count": 101,
   "metadata": {
    "collapsed": false
   },
   "outputs": [
    {
     "data": {
      "text/html": [
       "<div>\n",
       "<table border=\"1\" class=\"dataframe\">\n",
       "  <thead>\n",
       "    <tr style=\"text-align: right;\">\n",
       "      <th></th>\n",
       "      <th>click_times</th>\n",
       "      <th>attr_times</th>\n",
       "      <th>has_attributed</th>\n",
       "      <th>attribute_rate</th>\n",
       "    </tr>\n",
       "  </thead>\n",
       "  <tbody>\n",
       "    <tr>\n",
       "      <th>count</th>\n",
       "      <td>3.475000e+03</td>\n",
       "      <td>3475.000000</td>\n",
       "      <td>3475.000000</td>\n",
       "      <td>3475.000000</td>\n",
       "    </tr>\n",
       "    <tr>\n",
       "      <th>mean</th>\n",
       "      <td>5.320975e+04</td>\n",
       "      <td>131.466475</td>\n",
       "      <td>0.537842</td>\n",
       "      <td>0.149752</td>\n",
       "    </tr>\n",
       "    <tr>\n",
       "      <th>std</th>\n",
       "      <td>2.960519e+06</td>\n",
       "      <td>5478.919685</td>\n",
       "      <td>0.498638</td>\n",
       "      <td>0.230485</td>\n",
       "    </tr>\n",
       "    <tr>\n",
       "      <th>min</th>\n",
       "      <td>1.000000e+00</td>\n",
       "      <td>0.000000</td>\n",
       "      <td>0.000000</td>\n",
       "      <td>0.000000</td>\n",
       "    </tr>\n",
       "    <tr>\n",
       "      <th>25%</th>\n",
       "      <td>1.000000e+00</td>\n",
       "      <td>0.000000</td>\n",
       "      <td>0.000000</td>\n",
       "      <td>0.000000</td>\n",
       "    </tr>\n",
       "    <tr>\n",
       "      <th>50%</th>\n",
       "      <td>4.000000e+00</td>\n",
       "      <td>1.000000</td>\n",
       "      <td>1.000000</td>\n",
       "      <td>0.076923</td>\n",
       "    </tr>\n",
       "    <tr>\n",
       "      <th>75%</th>\n",
       "      <td>1.800000e+01</td>\n",
       "      <td>2.000000</td>\n",
       "      <td>1.000000</td>\n",
       "      <td>0.200000</td>\n",
       "    </tr>\n",
       "    <tr>\n",
       "      <th>max</th>\n",
       "      <td>1.743301e+08</td>\n",
       "      <td>306495.000000</td>\n",
       "      <td>1.000000</td>\n",
       "      <td>1.000000</td>\n",
       "    </tr>\n",
       "  </tbody>\n",
       "</table>\n",
       "</div>"
      ],
      "text/plain": [
       "        click_times     attr_times  has_attributed  attribute_rate\n",
       "count  3.475000e+03    3475.000000     3475.000000     3475.000000\n",
       "mean   5.320975e+04     131.466475        0.537842        0.149752\n",
       "std    2.960519e+06    5478.919685        0.498638        0.230485\n",
       "min    1.000000e+00       0.000000        0.000000        0.000000\n",
       "25%    1.000000e+00       0.000000        0.000000        0.000000\n",
       "50%    4.000000e+00       1.000000        1.000000        0.076923\n",
       "75%    1.800000e+01       2.000000        1.000000        0.200000\n",
       "max    1.743301e+08  306495.000000        1.000000        1.000000"
      ]
     },
     "execution_count": 101,
     "metadata": {},
     "output_type": "execute_result"
    }
   ],
   "source": [
    "device_stats = pd.DataFrame()\n",
    "\n",
    "device_stats = pd.DataFrame()\n",
    "device_stats['click_times'] = device_counts.sort_index()\n",
    "device_stats['attr_times'] = device_attr\n",
    "device_stats.attr_times.sum()\n",
    "\n",
    "device_stats['has_attributed'] = np.where(device_stats.attr_times > 0, 1, 0)\n",
    "device_stats['attribute_rate'] = device_stats['attr_times'] / device_stats['click_times']\n",
    "device_stats.describe()"
   ]
  },
  {
   "cell_type": "markdown",
   "metadata": {},
   "source": [
    "**说明：**\n",
    "\n",
    "* 一半左右的device有过下载记录\n",
    "* 平均每种device点击次数为53209次，下载为131.5， 平均下载率15%\n",
    "* 点击和下载依然分布不均匀，大部分处于比较低位的水平，也许和用户量有关"
   ]
  },
  {
   "cell_type": "code",
   "execution_count": 225,
   "metadata": {
    "collapsed": false
   },
   "outputs": [
    {
     "data": {
      "image/png": "[encoded data removed]",
      "text/plain": [
       "<matplotlib.figure.Figure at 0x28c197d9d30>"
      ]
     },
     "metadata": {},
     "output_type": "display_data"
    }
   ],
   "source": [
    "plt.figure(figsize=(9, 6))\n",
    "plt.title('bar plot of device')\n",
    "c = device_stats.has_attributed.value_counts()\n",
    "plt.bar(c.index, c)\n",
    "plt.xticks(c.index, ('no', 'yes'))\n",
    "plt.show()"
   ]
  },
  {
   "cell_type": "code",
   "execution_count": 102,
   "metadata": {
    "collapsed": true
   },
   "outputs": [],
   "source": [
    "# save res\n",
    "device_stats.to_csv('device_stats.csv')"
   ]
  },
  {
   "cell_type": "markdown",
   "metadata": {},
   "source": [
    "### 时间区间统计分析\n",
    "\n",
    "**数据预处理&变量和中间表统计**"
   ]
  },
  {
   "cell_type": "code",
   "execution_count": 133,
   "metadata": {
    "collapsed": false
   },
   "outputs": [],
   "source": [
    "from datetime import datetime\n",
    "chunks = pd.read_csv('train.csv',  chunksize=2000000)\n",
    "\n",
    "click_by_date_hour = pd.Series()\n",
    "attributed_by_date_hour = pd.Series()\n",
    "\n",
    "for chunk in chunks:\n",
    "    \n",
    "    chunk['click_time'] = pd.to_datetime(chunk['click_time'], format='%Y-%m-%d  %H:%M:%S', errors='raise')\n",
    "    chunk['attributed_time'] = pd.to_datetime(chunk['attributed_time'], format='%Y-%m-%d  %H:%M:%S', errors='raise')\n",
    "    \n",
    "    chunk['click_date'] = chunk['click_time'].dt.date\n",
    "    chunk['attributed_date'] = chunk['attributed_time'].dt.date\n",
    "    \n",
    "    chunk['click_hour'] = chunk['click_time'].dt.hour\n",
    "    chunk['attributed_hour'] = chunk['attributed_time'].dt.hour\n",
    "    \n",
    "    s1 = chunk.groupby(['click_date','click_hour'])['click_time'].count()\n",
    "    s2 = chunk.groupby(['click_date','click_hour'])['is_attributed'].sum()\n",
    "    click_by_date_hour = click_by_date_hour.append(s1, ignore_index=False)\n",
    "    attributed_by_date_hour = attributed_by_date_hour.append(s2, ignore_index=False)\n",
    "    \n",
    "    \n"
   ]
  },
  {
   "cell_type": "code",
   "execution_count": 112,
   "metadata": {
    "collapsed": false
   },
   "outputs": [
    {
     "data": {
      "text/plain": [
       "2017-11-06     9308568\n",
       "2017-11-07    59633310\n",
       "2017-11-08    62945075\n",
       "2017-11-09    53016937\n",
       "dtype: int64"
      ]
     },
     "execution_count": 112,
     "metadata": {},
     "output_type": "execute_result"
    }
   ],
   "source": [
    "click_date = click_date.groupby(click_date.index).sum()\n",
    "click_date"
   ]
  },
  {
   "cell_type": "code",
   "execution_count": 113,
   "metadata": {
    "collapsed": false
   },
   "outputs": [
    {
     "data": {
      "text/plain": [
       "2017-11-06     10717\n",
       "2017-11-07    152417\n",
       "2017-11-08    151761\n",
       "2017-11-09    141951\n",
       "dtype: int64"
      ]
     },
     "execution_count": 113,
     "metadata": {},
     "output_type": "execute_result"
    }
   ],
   "source": [
    "attributed_date.groupby(attributed_date.index).sum()"
   ]
  },
  {
   "cell_type": "code",
   "execution_count": 140,
   "metadata": {
    "collapsed": false
   },
   "outputs": [],
   "source": [
    "click_by_date_hour.to_csv('click_by_date_hour.csv')"
   ]
  },
  {
   "cell_type": "code",
   "execution_count": 141,
   "metadata": {
    "collapsed": false
   },
   "outputs": [],
   "source": [
    "attributed_by_date_hour.to_csv('attributed_by_date_hour.csv')"
   ]
  },
  {
   "cell_type": "code",
   "execution_count": 152,
   "metadata": {
    "collapsed": false
   },
   "outputs": [
    {
     "data": {
      "image/png": "[encoded data removed]",
      "text/plain": [
       "<matplotlib.figure.Figure at 0x28c004db9b0>"
      ]
     },
     "metadata": {},
     "output_type": "display_data"
    }
   ],
   "source": [
    "plt.figure(figsize=(16, 6))\n",
    "plt.title(\"time series counts of click\")\n",
    "\n",
    "\n",
    "click_by_date_hour.plot(kind='line')\n",
    "plt.show()"
   ]
  },
  {
   "cell_type": "code",
   "execution_count": 155,
   "metadata": {
    "collapsed": false
   },
   "outputs": [],
   "source": [
    "click_by_date_hour_df = pd.DataFrame()\n",
    "click_by_date_hour_df['click_times'] = click_by_date_hour\n",
    "click_by_date_hour_df['click_datetime']  = click_by_date_hour.index"
   ]
  },
  {
   "cell_type": "code",
   "execution_count": 156,
   "metadata": {
    "collapsed": false
   },
   "outputs": [
    {
     "data": {
      "text/html": [
       "<div>\n",
       "<table border=\"1\" class=\"dataframe\">\n",
       "  <thead>\n",
       "    <tr style=\"text-align: right;\">\n",
       "      <th></th>\n",
       "      <th>click_times</th>\n",
       "      <th>click_datetime</th>\n",
       "    </tr>\n",
       "  </thead>\n",
       "  <tbody>\n",
       "    <tr>\n",
       "      <th>(2017-11-06, 14)</th>\n",
       "      <td>48</td>\n",
       "      <td>(2017-11-06, 14)</td>\n",
       "    </tr>\n",
       "    <tr>\n",
       "      <th>(2017-11-06, 15)</th>\n",
       "      <td>435</td>\n",
       "      <td>(2017-11-06, 15)</td>\n",
       "    </tr>\n",
       "    <tr>\n",
       "      <th>(2017-11-06, 16)</th>\n",
       "      <td>1999517</td>\n",
       "      <td>(2017-11-06, 16)</td>\n",
       "    </tr>\n",
       "    <tr>\n",
       "      <th>(2017-11-06, 16)</th>\n",
       "      <td>308260</td>\n",
       "      <td>(2017-11-06, 16)</td>\n",
       "    </tr>\n",
       "    <tr>\n",
       "      <th>(2017-11-06, 17)</th>\n",
       "      <td>1263348</td>\n",
       "      <td>(2017-11-06, 17)</td>\n",
       "    </tr>\n",
       "  </tbody>\n",
       "</table>\n",
       "</div>"
      ],
      "text/plain": [
       "                  click_times    click_datetime\n",
       "(2017-11-06, 14)           48  (2017-11-06, 14)\n",
       "(2017-11-06, 15)          435  (2017-11-06, 15)\n",
       "(2017-11-06, 16)      1999517  (2017-11-06, 16)\n",
       "(2017-11-06, 16)       308260  (2017-11-06, 16)\n",
       "(2017-11-06, 17)      1263348  (2017-11-06, 17)"
      ]
     },
     "execution_count": 156,
     "metadata": {},
     "output_type": "execute_result"
    }
   ],
   "source": [
    "click_by_date_hour_df.head()"
   ]
  },
  {
   "cell_type": "code",
   "execution_count": 166,
   "metadata": {
    "collapsed": false
   },
   "outputs": [],
   "source": [
    "click_by_date_hour_df['click_date'] = click_by_date_hour_df['click_datetime'].map(lambda x:x[0])\n",
    "click_by_date_hour_df['click_hour'] = click_by_date_hour_df['click_datetime'].map(lambda x:x[1])"
   ]
  },
  {
   "cell_type": "code",
   "execution_count": 167,
   "metadata": {
    "collapsed": false
   },
   "outputs": [
    {
     "data": {
      "text/html": [
       "<div>\n",
       "<table border=\"1\" class=\"dataframe\">\n",
       "  <thead>\n",
       "    <tr style=\"text-align: right;\">\n",
       "      <th></th>\n",
       "      <th>click_times</th>\n",
       "      <th>click_datetime</th>\n",
       "      <th>click_date</th>\n",
       "      <th>click_hour</th>\n",
       "    </tr>\n",
       "  </thead>\n",
       "  <tbody>\n",
       "    <tr>\n",
       "      <th>(2017-11-06, 14)</th>\n",
       "      <td>48</td>\n",
       "      <td>(2017-11-06, 14)</td>\n",
       "      <td>2017-11-06</td>\n",
       "      <td>14</td>\n",
       "    </tr>\n",
       "    <tr>\n",
       "      <th>(2017-11-06, 15)</th>\n",
       "      <td>435</td>\n",
       "      <td>(2017-11-06, 15)</td>\n",
       "      <td>2017-11-06</td>\n",
       "      <td>15</td>\n",
       "    </tr>\n",
       "    <tr>\n",
       "      <th>(2017-11-06, 16)</th>\n",
       "      <td>1999517</td>\n",
       "      <td>(2017-11-06, 16)</td>\n",
       "      <td>2017-11-06</td>\n",
       "      <td>16</td>\n",
       "    </tr>\n",
       "    <tr>\n",
       "      <th>(2017-11-06, 16)</th>\n",
       "      <td>308260</td>\n",
       "      <td>(2017-11-06, 16)</td>\n",
       "      <td>2017-11-06</td>\n",
       "      <td>16</td>\n",
       "    </tr>\n",
       "    <tr>\n",
       "      <th>(2017-11-06, 17)</th>\n",
       "      <td>1263348</td>\n",
       "      <td>(2017-11-06, 17)</td>\n",
       "      <td>2017-11-06</td>\n",
       "      <td>17</td>\n",
       "    </tr>\n",
       "  </tbody>\n",
       "</table>\n",
       "</div>"
      ],
      "text/plain": [
       "                  click_times    click_datetime  click_date  click_hour\n",
       "(2017-11-06, 14)           48  (2017-11-06, 14)  2017-11-06          14\n",
       "(2017-11-06, 15)          435  (2017-11-06, 15)  2017-11-06          15\n",
       "(2017-11-06, 16)      1999517  (2017-11-06, 16)  2017-11-06          16\n",
       "(2017-11-06, 16)       308260  (2017-11-06, 16)  2017-11-06          16\n",
       "(2017-11-06, 17)      1263348  (2017-11-06, 17)  2017-11-06          17"
      ]
     },
     "execution_count": 167,
     "metadata": {},
     "output_type": "execute_result"
    }
   ],
   "source": [
    "click_by_date_hour_df.head()"
   ]
  },
  {
   "cell_type": "code",
   "execution_count": 169,
   "metadata": {
    "collapsed": false
   },
   "outputs": [],
   "source": [
    "click_by_date_hour = click_by_date_hour_df.groupby(['click_date','click_hour'])['click_times'].sum()"
   ]
  },
  {
   "cell_type": "code",
   "execution_count": 171,
   "metadata": {
    "collapsed": true
   },
   "outputs": [],
   "source": [
    "attributed_by_date_hour_df = pd.DataFrame()\n",
    "attributed_by_date_hour_df['attribute_times'] = attributed_by_date_hour\n",
    "attributed_by_date_hour_df['attributed_datetime'] = attributed_by_date_hour.index\n",
    "attributed_by_date_hour_df['attributed_date'] = attributed_by_date_hour_df['attributed_datetime'].map(lambda x:x[0])\n",
    "attributed_by_date_hour_df['attributed_hour'] = attributed_by_date_hour_df['attributed_datetime'].map(lambda x:x[1])\n"
   ]
  },
  {
   "cell_type": "code",
   "execution_count": 172,
   "metadata": {
    "collapsed": false
   },
   "outputs": [
    {
     "data": {
      "text/html": [
       "<div>\n",
       "<table border=\"1\" class=\"dataframe\">\n",
       "  <thead>\n",
       "    <tr style=\"text-align: right;\">\n",
       "      <th></th>\n",
       "      <th>attribute_times</th>\n",
       "      <th>attributed_datetime</th>\n",
       "      <th>attributed_date</th>\n",
       "      <th>attributed_hour</th>\n",
       "    </tr>\n",
       "  </thead>\n",
       "  <tbody>\n",
       "    <tr>\n",
       "      <th>(2017-11-06, 14)</th>\n",
       "      <td>0</td>\n",
       "      <td>(2017-11-06, 14)</td>\n",
       "      <td>2017-11-06</td>\n",
       "      <td>14</td>\n",
       "    </tr>\n",
       "    <tr>\n",
       "      <th>(2017-11-06, 15)</th>\n",
       "      <td>1</td>\n",
       "      <td>(2017-11-06, 15)</td>\n",
       "      <td>2017-11-06</td>\n",
       "      <td>15</td>\n",
       "    </tr>\n",
       "    <tr>\n",
       "      <th>(2017-11-06, 16)</th>\n",
       "      <td>3387</td>\n",
       "      <td>(2017-11-06, 16)</td>\n",
       "      <td>2017-11-06</td>\n",
       "      <td>16</td>\n",
       "    </tr>\n",
       "    <tr>\n",
       "      <th>(2017-11-06, 16)</th>\n",
       "      <td>529</td>\n",
       "      <td>(2017-11-06, 16)</td>\n",
       "      <td>2017-11-06</td>\n",
       "      <td>16</td>\n",
       "    </tr>\n",
       "    <tr>\n",
       "      <th>(2017-11-06, 17)</th>\n",
       "      <td>2241</td>\n",
       "      <td>(2017-11-06, 17)</td>\n",
       "      <td>2017-11-06</td>\n",
       "      <td>17</td>\n",
       "    </tr>\n",
       "  </tbody>\n",
       "</table>\n",
       "</div>"
      ],
      "text/plain": [
       "                  attribute_times attributed_datetime attributed_date  \\\n",
       "(2017-11-06, 14)                0    (2017-11-06, 14)      2017-11-06   \n",
       "(2017-11-06, 15)                1    (2017-11-06, 15)      2017-11-06   \n",
       "(2017-11-06, 16)             3387    (2017-11-06, 16)      2017-11-06   \n",
       "(2017-11-06, 16)              529    (2017-11-06, 16)      2017-11-06   \n",
       "(2017-11-06, 17)             2241    (2017-11-06, 17)      2017-11-06   \n",
       "\n",
       "                  attributed_hour  \n",
       "(2017-11-06, 14)               14  \n",
       "(2017-11-06, 15)               15  \n",
       "(2017-11-06, 16)               16  \n",
       "(2017-11-06, 16)               16  \n",
       "(2017-11-06, 17)               17  "
      ]
     },
     "execution_count": 172,
     "metadata": {},
     "output_type": "execute_result"
    }
   ],
   "source": [
    "attributed_by_date_hour_df.head()"
   ]
  },
  {
   "cell_type": "code",
   "execution_count": 173,
   "metadata": {
    "collapsed": false
   },
   "outputs": [
    {
     "data": {
      "text/plain": [
       "(2017-11-06, 14)       0\n",
       "(2017-11-06, 15)       1\n",
       "(2017-11-06, 16)    3387\n",
       "(2017-11-06, 16)     529\n",
       "(2017-11-06, 17)    2241\n",
       "dtype: int64"
      ]
     },
     "execution_count": 173,
     "metadata": {},
     "output_type": "execute_result"
    }
   ],
   "source": [
    "attributed_by_date_hour.head()"
   ]
  },
  {
   "cell_type": "code",
   "execution_count": 176,
   "metadata": {
    "collapsed": false
   },
   "outputs": [
    {
     "data": {
      "text/plain": [
       "attributed_date  attributed_hour\n",
       "2017-11-06       14                    0\n",
       "                 15                    1\n",
       "                 16                 3916\n",
       "                 17                 2241\n",
       "                 18                 1343\n",
       "Name: attribute_times, dtype: int64"
      ]
     },
     "execution_count": 176,
     "metadata": {},
     "output_type": "execute_result"
    }
   ],
   "source": [
    "attributed_by_date_hour = attributed_by_date_hour_df.groupby(['attributed_date','attributed_hour'])['attribute_times'].sum()\n",
    "attributed_by_date_hour.head()"
   ]
  },
  {
   "cell_type": "code",
   "execution_count": 177,
   "metadata": {
    "collapsed": true
   },
   "outputs": [],
   "source": [
    "attributed_by_date_hour_df.to_csv('attributed_by_date_hour_df.csv')"
   ]
  },
  {
   "cell_type": "code",
   "execution_count": 183,
   "metadata": {
    "collapsed": false
   },
   "outputs": [
    {
     "data": {
      "text/plain": [
       "click_date  click_hour\n",
       "2017-11-09  12            3363917\n",
       "            13            3457523\n",
       "            14            3443283\n",
       "            15            3026111\n",
       "            16                447\n",
       "Name: click_times, dtype: int64"
      ]
     },
     "execution_count": 183,
     "metadata": {},
     "output_type": "execute_result"
    }
   ],
   "source": [
    "click_by_date_hour.tail()"
   ]
  },
  {
   "cell_type": "markdown",
   "metadata": {},
   "source": [
    "时间区间为11-06， 到11-09四天，但是需要注意的是11-06仅从14点开始，11-09结束在16点。"
   ]
  },
  {
   "cell_type": "code",
   "execution_count": 184,
   "metadata": {
    "collapsed": false
   },
   "outputs": [
    {
     "data": {
      "text/plain": [
       "attributed_date  attributed_hour\n",
       "2017-11-09       12                 8566\n",
       "                 13                 8983\n",
       "                 14                 7838\n",
       "                 15                 4877\n",
       "                 16                    0\n",
       "Name: attribute_times, dtype: int64"
      ]
     },
     "execution_count": 184,
     "metadata": {},
     "output_type": "execute_result"
    }
   ],
   "source": [
    "attributed_by_date_hour.tail()"
   ]
  },
  {
   "cell_type": "code",
   "execution_count": 188,
   "metadata": {
    "collapsed": false
   },
   "outputs": [],
   "source": [
    "click_by_date_hour.unstack().T.to_excel('click_datetime.xlsx')"
   ]
  },
  {
   "cell_type": "code",
   "execution_count": 189,
   "metadata": {
    "collapsed": true
   },
   "outputs": [],
   "source": [
    "attributed_by_date_hour.unstack().T.to_excel('attribute_datetime.xlsx')"
   ]
  },
  {
   "cell_type": "code",
   "execution_count": 191,
   "metadata": {
    "collapsed": false
   },
   "outputs": [],
   "source": [
    "click_by_date_hour = click_by_date_hour.unstack().T\n",
    "attributed_by_date_hour = attributed_by_date_hour.unstack().T"
   ]
  },
  {
   "cell_type": "code",
   "execution_count": 192,
   "metadata": {
    "collapsed": false,
    "scrolled": true
   },
   "outputs": [
    {
     "data": {
      "text/html": [
       "<div>\n",
       "<table border=\"1\" class=\"dataframe\">\n",
       "  <thead>\n",
       "    <tr style=\"text-align: right;\">\n",
       "      <th>click_date</th>\n",
       "      <th>2017-11-06</th>\n",
       "      <th>2017-11-07</th>\n",
       "      <th>2017-11-08</th>\n",
       "      <th>2017-11-09</th>\n",
       "    </tr>\n",
       "    <tr>\n",
       "      <th>click_hour</th>\n",
       "      <th></th>\n",
       "      <th></th>\n",
       "      <th></th>\n",
       "      <th></th>\n",
       "    </tr>\n",
       "  </thead>\n",
       "  <tbody>\n",
       "    <tr>\n",
       "      <th>0</th>\n",
       "      <td>NaN</td>\n",
       "      <td>3604365.0</td>\n",
       "      <td>3493769.0</td>\n",
       "      <td>3318301.0</td>\n",
       "    </tr>\n",
       "    <tr>\n",
       "      <th>1</th>\n",
       "      <td>NaN</td>\n",
       "      <td>3308150.0</td>\n",
       "      <td>3065649.0</td>\n",
       "      <td>3082862.0</td>\n",
       "    </tr>\n",
       "    <tr>\n",
       "      <th>2</th>\n",
       "      <td>NaN</td>\n",
       "      <td>3095633.0</td>\n",
       "      <td>3585843.0</td>\n",
       "      <td>3068887.0</td>\n",
       "    </tr>\n",
       "    <tr>\n",
       "      <th>3</th>\n",
       "      <td>NaN</td>\n",
       "      <td>3220271.0</td>\n",
       "      <td>3172056.0</td>\n",
       "      <td>3351149.0</td>\n",
       "    </tr>\n",
       "    <tr>\n",
       "      <th>4</th>\n",
       "      <td>NaN</td>\n",
       "      <td>3645493.0</td>\n",
       "      <td>3545132.0</td>\n",
       "      <td>4032691.0</td>\n",
       "    </tr>\n",
       "    <tr>\n",
       "      <th>5</th>\n",
       "      <td>NaN</td>\n",
       "      <td>3227349.0</td>\n",
       "      <td>3160269.0</td>\n",
       "      <td>3671741.0</td>\n",
       "    </tr>\n",
       "    <tr>\n",
       "      <th>6</th>\n",
       "      <td>NaN</td>\n",
       "      <td>2917284.0</td>\n",
       "      <td>2983655.0</td>\n",
       "      <td>3570940.0</td>\n",
       "    </tr>\n",
       "    <tr>\n",
       "      <th>7</th>\n",
       "      <td>NaN</td>\n",
       "      <td>2924033.0</td>\n",
       "      <td>3155262.0</td>\n",
       "      <td>3186240.0</td>\n",
       "    </tr>\n",
       "    <tr>\n",
       "      <th>8</th>\n",
       "      <td>NaN</td>\n",
       "      <td>2801293.0</td>\n",
       "      <td>2976057.0</td>\n",
       "      <td>2804701.0</td>\n",
       "    </tr>\n",
       "    <tr>\n",
       "      <th>9</th>\n",
       "      <td>NaN</td>\n",
       "      <td>2961319.0</td>\n",
       "      <td>3068314.0</td>\n",
       "      <td>2986204.0</td>\n",
       "    </tr>\n",
       "    <tr>\n",
       "      <th>10</th>\n",
       "      <td>NaN</td>\n",
       "      <td>3300746.0</td>\n",
       "      <td>3377086.0</td>\n",
       "      <td>3304199.0</td>\n",
       "    </tr>\n",
       "    <tr>\n",
       "      <th>11</th>\n",
       "      <td>NaN</td>\n",
       "      <td>3134200.0</td>\n",
       "      <td>3430977.0</td>\n",
       "      <td>3347741.0</td>\n",
       "    </tr>\n",
       "    <tr>\n",
       "      <th>12</th>\n",
       "      <td>NaN</td>\n",
       "      <td>3000091.0</td>\n",
       "      <td>3485357.0</td>\n",
       "      <td>3363917.0</td>\n",
       "    </tr>\n",
       "    <tr>\n",
       "      <th>13</th>\n",
       "      <td>NaN</td>\n",
       "      <td>3235239.0</td>\n",
       "      <td>3616634.0</td>\n",
       "      <td>3457523.0</td>\n",
       "    </tr>\n",
       "    <tr>\n",
       "      <th>14</th>\n",
       "      <td>48.0</td>\n",
       "      <td>3161797.0</td>\n",
       "      <td>3676695.0</td>\n",
       "      <td>3443283.0</td>\n",
       "    </tr>\n",
       "    <tr>\n",
       "      <th>15</th>\n",
       "      <td>435.0</td>\n",
       "      <td>2864021.0</td>\n",
       "      <td>3336168.0</td>\n",
       "      <td>3026111.0</td>\n",
       "    </tr>\n",
       "    <tr>\n",
       "      <th>16</th>\n",
       "      <td>2307777.0</td>\n",
       "      <td>2314780.0</td>\n",
       "      <td>2455567.0</td>\n",
       "      <td>447.0</td>\n",
       "    </tr>\n",
       "    <tr>\n",
       "      <th>17</th>\n",
       "      <td>1263348.0</td>\n",
       "      <td>1263077.0</td>\n",
       "      <td>1387383.0</td>\n",
       "      <td>NaN</td>\n",
       "    </tr>\n",
       "    <tr>\n",
       "      <th>18</th>\n",
       "      <td>738140.0</td>\n",
       "      <td>726684.0</td>\n",
       "      <td>794088.0</td>\n",
       "      <td>NaN</td>\n",
       "    </tr>\n",
       "    <tr>\n",
       "      <th>19</th>\n",
       "      <td>496354.0</td>\n",
       "      <td>493056.0</td>\n",
       "      <td>554053.0</td>\n",
       "      <td>NaN</td>\n",
       "    </tr>\n",
       "    <tr>\n",
       "      <th>20</th>\n",
       "      <td>409752.0</td>\n",
       "      <td>409255.0</td>\n",
       "      <td>447324.0</td>\n",
       "      <td>NaN</td>\n",
       "    </tr>\n",
       "    <tr>\n",
       "      <th>21</th>\n",
       "      <td>509572.0</td>\n",
       "      <td>518866.0</td>\n",
       "      <td>550518.0</td>\n",
       "      <td>NaN</td>\n",
       "    </tr>\n",
       "    <tr>\n",
       "      <th>22</th>\n",
       "      <td>1223530.0</td>\n",
       "      <td>1172535.0</td>\n",
       "      <td>1260525.0</td>\n",
       "      <td>NaN</td>\n",
       "    </tr>\n",
       "    <tr>\n",
       "      <th>23</th>\n",
       "      <td>2359612.0</td>\n",
       "      <td>2333773.0</td>\n",
       "      <td>2366694.0</td>\n",
       "      <td>NaN</td>\n",
       "    </tr>\n",
       "  </tbody>\n",
       "</table>\n",
       "</div>"
      ],
      "text/plain": [
       "click_date  2017-11-06  2017-11-07  2017-11-08  2017-11-09\n",
       "click_hour                                                \n",
       "0                  NaN   3604365.0   3493769.0   3318301.0\n",
       "1                  NaN   3308150.0   3065649.0   3082862.0\n",
       "2                  NaN   3095633.0   3585843.0   3068887.0\n",
       "3                  NaN   3220271.0   3172056.0   3351149.0\n",
       "4                  NaN   3645493.0   3545132.0   4032691.0\n",
       "5                  NaN   3227349.0   3160269.0   3671741.0\n",
       "6                  NaN   2917284.0   2983655.0   3570940.0\n",
       "7                  NaN   2924033.0   3155262.0   3186240.0\n",
       "8                  NaN   2801293.0   2976057.0   2804701.0\n",
       "9                  NaN   2961319.0   3068314.0   2986204.0\n",
       "10                 NaN   3300746.0   3377086.0   3304199.0\n",
       "11                 NaN   3134200.0   3430977.0   3347741.0\n",
       "12                 NaN   3000091.0   3485357.0   3363917.0\n",
       "13                 NaN   3235239.0   3616634.0   3457523.0\n",
       "14                48.0   3161797.0   3676695.0   3443283.0\n",
       "15               435.0   2864021.0   3336168.0   3026111.0\n",
       "16           2307777.0   2314780.0   2455567.0       447.0\n",
       "17           1263348.0   1263077.0   1387383.0         NaN\n",
       "18            738140.0    726684.0    794088.0         NaN\n",
       "19            496354.0    493056.0    554053.0         NaN\n",
       "20            409752.0    409255.0    447324.0         NaN\n",
       "21            509572.0    518866.0    550518.0         NaN\n",
       "22           1223530.0   1172535.0   1260525.0         NaN\n",
       "23           2359612.0   2333773.0   2366694.0         NaN"
      ]
     },
     "execution_count": 192,
     "metadata": {},
     "output_type": "execute_result"
    }
   ],
   "source": [
    "click_by_date_hour"
   ]
  },
  {
   "cell_type": "code",
   "execution_count": 205,
   "metadata": {
    "collapsed": false
   },
   "outputs": [],
   "source": [
    "click_by_date_hour.columns = ['2017-11-06', '2017-11-07', '2017-11-08', '2017-11-09']\n",
    "attributed_by_date_hour.columns = ['2017-11-06', '2017-11-07', '2017-11-08', '2017-11-09']"
   ]
  },
  {
   "cell_type": "code",
   "execution_count": 207,
   "metadata": {
    "collapsed": false,
    "scrolled": false
   },
   "outputs": [
    {
     "data": {
      "image/png": "[encoded data removed]",
      "text/plain": [
       "<matplotlib.figure.Figure at 0x28c193be160>"
      ]
     },
     "metadata": {},
     "output_type": "display_data"
    }
   ],
   "source": [
    "c = ['blue', 'red']\n",
    "i = 0\n",
    "plt.figure(figsize=(12, 6))\n",
    "plt.title('click time series plot')\n",
    "for day in ['2017-11-07', '2017-11-08']:\n",
    "    \n",
    "    plt.plot(click_by_date_hour.loc[:, day], color=c[i], label='click_times in {}'.format(day))\n",
    "    plt.legend(loc='best')\n",
    "    i += 1\n",
    "\n",
    "plt.xlabel('hour')\n",
    "plt.ylabel('click_times')\n",
    "plt.show()"
   ]
  },
  {
   "cell_type": "code",
   "execution_count": 209,
   "metadata": {
    "collapsed": false
   },
   "outputs": [
    {
     "data": {
      "image/png": "[encoded data removed]",
      "text/plain": [
       "<matplotlib.figure.Figure at 0x28c1f8bd5f8>"
      ]
     },
     "metadata": {},
     "output_type": "display_data"
    }
   ],
   "source": [
    "c = ['blue', 'red']\n",
    "i = 0\n",
    "plt.figure(figsize=(12, 6))\n",
    "plt.title('attribute time series plot')\n",
    "for day in ['2017-11-07', '2017-11-08']:\n",
    "    \n",
    "    plt.plot(attributed_by_date_hour.loc[:, day], color=c[i], label='attribute_times in {}'.format(day))\n",
    "    plt.legend(loc='best')\n",
    "    i += 1\n",
    "\n",
    "plt.xlabel('hour')\n",
    "plt.ylabel('attribute_times')\n",
    "plt.show()"
   ]
  },
  {
   "cell_type": "code",
   "execution_count": 213,
   "metadata": {
    "collapsed": false
   },
   "outputs": [
    {
     "data": {
      "image/png": "[encoded data removed]",
      "text/plain": [
       "<matplotlib.figure.Figure at 0x28c0bb085c0>"
      ]
     },
     "metadata": {},
     "output_type": "display_data"
    }
   ],
   "source": [
    "c = ['blue', 'red']\n",
    "ty = ['b--', 'r--']\n",
    "i = 0\n",
    "plt.figure(figsize=(12, 6))\n",
    "plt.title('attribute time series plot')\n",
    "for day in ['2017-11-07', '2017-11-08']:\n",
    "    plt.plot(np.log(click_by_date_hour.loc[:, day]), ty[i], label='click_times in {}'.format(day))\n",
    "    plt.plot(np.log(attributed_by_date_hour.loc[:, day]), color=c[i], label='attribute_times in {}'.format(day))\n",
    "    plt.legend(loc='best')\n",
    "    i += 1\n",
    "\n",
    "plt.xlabel('hour')\n",
    "plt.ylabel('attribute_times')\n",
    "plt.show()"
   ]
  },
  {
   "cell_type": "code",
   "execution_count": 216,
   "metadata": {
    "collapsed": false
   },
   "outputs": [
    {
     "data": {
      "image/png": "[encoded data removed]",
      "text/plain": [
       "<matplotlib.figure.Figure at 0x28c1c541cc0>"
      ]
     },
     "metadata": {},
     "output_type": "display_data"
    }
   ],
   "source": [
    "attributed_rate = pd.DataFrame(columns=attributed_by_date_hour.columns)\n",
    "\n",
    "for day in attributed_by_date_hour.columns:\n",
    "    \n",
    "    attributed_rate[day] = attributed_by_date_hour[day]/click_by_date_hour[day]\n",
    "\n",
    "\n",
    "c = ['blue', 'red']\n",
    "i = 0\n",
    "plt.figure(figsize=(12, 6))\n",
    "plt.title('attribute rate time series plot')\n",
    "for day in ['2017-11-07', '2017-11-08']:\n",
    "    \n",
    "    plt.plot(attributed_rate.loc[:, day], color=c[i], label='attribute rate in {}'.format(day))\n",
    "    plt.legend(loc='best')\n",
    "    i += 1\n",
    "\n",
    "plt.xlabel('hour')\n",
    "plt.ylabel('attribute_rate')\n",
    "plt.show()"
   ]
  },
  {
   "cell_type": "markdown",
   "metadata": {},
   "source": [
    "**结束**"
   ]
  }
 ],
 "metadata": {
  "kernelspec": {
   "display_name": "Python 3",
   "language": "python",
   "name": "python3"
  },
  "language_info": {
   "codemirror_mode": {
    "name": "ipython",
    "version": 3
   },
   "file_extension": ".py",
   "mimetype": "text/x-python",
   "name": "python",
   "nbconvert_exporter": "python",
   "pygments_lexer": "ipython3",
   "version": "3.6.0"
  }
 },
 "nbformat": 4,
 "nbformat_minor": 2
}
